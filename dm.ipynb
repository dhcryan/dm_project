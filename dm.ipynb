{
  "cells": [
    {
      "cell_type": "markdown",
      "metadata": {
        "id": "view-in-github",
        "colab_type": "text"
      },
      "source": [
        "<a href=\"https://colab.research.google.com/github/dhcryan/dm_project/blob/main/dm.ipynb\" target=\"_parent\"><img src=\"https://colab.research.google.com/assets/colab-badge.svg\" alt=\"Open In Colab\"/></a>"
      ]
    },
    {
      "cell_type": "code",
      "execution_count": null,
      "metadata": {
        "id": "F2aJqaOth8CI"
      },
      "outputs": [],
      "source": [
        "import pandas as pd\n",
        "import numpy as np\n",
        "import matplotlib.pyplot as plt\n",
        "import seaborn as sns\n"
      ]
    },
    {
      "cell_type": "code",
      "execution_count": null,
      "metadata": {
        "colab": {
          "base_uri": "https://localhost:8080/"
        },
        "id": "SZN_4ZTlh8CN",
        "outputId": "8a68d855-d074-4448-8071-1b769dbee7fc"
      },
      "outputs": [
        {
          "output_type": "stream",
          "name": "stdout",
          "text": [
            "Looking in indexes: https://pypi.org/simple, https://us-python.pkg.dev/colab-wheels/public/simple/\n",
            "Collecting pyspark\n",
            "  Downloading pyspark-3.3.0.tar.gz (281.3 MB)\n",
            "\u001b[K     |████████████████████████████████| 281.3 MB 38 kB/s \n",
            "\u001b[?25hCollecting py4j==0.10.9.5\n",
            "  Downloading py4j-0.10.9.5-py2.py3-none-any.whl (199 kB)\n",
            "\u001b[K     |████████████████████████████████| 199 kB 56.1 MB/s \n",
            "\u001b[?25hBuilding wheels for collected packages: pyspark\n",
            "  Building wheel for pyspark (setup.py) ... \u001b[?25l\u001b[?25hdone\n",
            "  Created wheel for pyspark: filename=pyspark-3.3.0-py2.py3-none-any.whl size=281764026 sha256=68f2ed48a8b73f4bcf9bd97cbf70d483226041a805a952eaf2abe8ddda31eb71\n",
            "  Stored in directory: /root/.cache/pip/wheels/7a/8e/1b/f73a52650d2e5f337708d9f6a1750d451a7349a867f928b885\n",
            "Successfully built pyspark\n",
            "Installing collected packages: py4j, pyspark\n",
            "Successfully installed py4j-0.10.9.5 pyspark-3.3.0\n",
            "The following package was automatically installed and is no longer required:\n",
            "  libnvidia-common-460\n",
            "Use 'apt autoremove' to remove it.\n",
            "The following additional packages will be installed:\n",
            "  openjdk-8-jre-headless\n",
            "Suggested packages:\n",
            "  openjdk-8-demo openjdk-8-source libnss-mdns fonts-dejavu-extra\n",
            "  fonts-ipafont-gothic fonts-ipafont-mincho fonts-wqy-microhei\n",
            "  fonts-wqy-zenhei fonts-indic\n",
            "The following NEW packages will be installed:\n",
            "  openjdk-8-jdk-headless openjdk-8-jre-headless\n",
            "0 upgraded, 2 newly installed, 0 to remove and 20 not upgraded.\n",
            "Need to get 36.6 MB of archives.\n",
            "After this operation, 143 MB of additional disk space will be used.\n",
            "Selecting previously unselected package openjdk-8-jre-headless:amd64.\n",
            "(Reading database ... 159447 files and directories currently installed.)\n",
            "Preparing to unpack .../openjdk-8-jre-headless_8u342-b07-0ubuntu1~18.04_amd64.deb ...\n",
            "Unpacking openjdk-8-jre-headless:amd64 (8u342-b07-0ubuntu1~18.04) ...\n",
            "Selecting previously unselected package openjdk-8-jdk-headless:amd64.\n",
            "Preparing to unpack .../openjdk-8-jdk-headless_8u342-b07-0ubuntu1~18.04_amd64.deb ...\n",
            "Unpacking openjdk-8-jdk-headless:amd64 (8u342-b07-0ubuntu1~18.04) ...\n",
            "Setting up openjdk-8-jre-headless:amd64 (8u342-b07-0ubuntu1~18.04) ...\n",
            "update-alternatives: using /usr/lib/jvm/java-8-openjdk-amd64/jre/bin/orbd to provide /usr/bin/orbd (orbd) in auto mode\n",
            "update-alternatives: using /usr/lib/jvm/java-8-openjdk-amd64/jre/bin/servertool to provide /usr/bin/servertool (servertool) in auto mode\n",
            "update-alternatives: using /usr/lib/jvm/java-8-openjdk-amd64/jre/bin/tnameserv to provide /usr/bin/tnameserv (tnameserv) in auto mode\n",
            "Setting up openjdk-8-jdk-headless:amd64 (8u342-b07-0ubuntu1~18.04) ...\n",
            "update-alternatives: using /usr/lib/jvm/java-8-openjdk-amd64/bin/idlj to provide /usr/bin/idlj (idlj) in auto mode\n",
            "update-alternatives: using /usr/lib/jvm/java-8-openjdk-amd64/bin/wsimport to provide /usr/bin/wsimport (wsimport) in auto mode\n",
            "update-alternatives: using /usr/lib/jvm/java-8-openjdk-amd64/bin/jsadebugd to provide /usr/bin/jsadebugd (jsadebugd) in auto mode\n",
            "update-alternatives: using /usr/lib/jvm/java-8-openjdk-amd64/bin/native2ascii to provide /usr/bin/native2ascii (native2ascii) in auto mode\n",
            "update-alternatives: using /usr/lib/jvm/java-8-openjdk-amd64/bin/javah to provide /usr/bin/javah (javah) in auto mode\n",
            "update-alternatives: using /usr/lib/jvm/java-8-openjdk-amd64/bin/clhsdb to provide /usr/bin/clhsdb (clhsdb) in auto mode\n",
            "update-alternatives: using /usr/lib/jvm/java-8-openjdk-amd64/bin/xjc to provide /usr/bin/xjc (xjc) in auto mode\n",
            "update-alternatives: using /usr/lib/jvm/java-8-openjdk-amd64/bin/hsdb to provide /usr/bin/hsdb (hsdb) in auto mode\n",
            "update-alternatives: using /usr/lib/jvm/java-8-openjdk-amd64/bin/schemagen to provide /usr/bin/schemagen (schemagen) in auto mode\n",
            "update-alternatives: using /usr/lib/jvm/java-8-openjdk-amd64/bin/extcheck to provide /usr/bin/extcheck (extcheck) in auto mode\n",
            "update-alternatives: using /usr/lib/jvm/java-8-openjdk-amd64/bin/jhat to provide /usr/bin/jhat (jhat) in auto mode\n",
            "update-alternatives: using /usr/lib/jvm/java-8-openjdk-amd64/bin/wsgen to provide /usr/bin/wsgen (wsgen) in auto mode\n"
          ]
        }
      ],
      "source": [
        "!pip install pyspark\n",
        "!pip install -U -q PyDrive\n",
        "!apt install openjdk-8-jdk-headless -qq"
      ]
    },
    {
      "cell_type": "code",
      "execution_count": null,
      "metadata": {
        "id": "z6zVWsyKh8CP"
      },
      "outputs": [],
      "source": [
        "import os\n",
        "os.environ[\"JAVA_HOME\"] = \"/usr/lib/jvm/java-8-openjdk-amd64\""
      ]
    },
    {
      "cell_type": "code",
      "source": [
        "from google.colab import drive\n",
        "drive.mount('/content/drive')"
      ],
      "metadata": {
        "colab": {
          "base_uri": "https://localhost:8080/"
        },
        "id": "QC9c_1HbiKSA",
        "outputId": "9b582b9e-9913-4bc0-a3b4-db0ff208eada"
      },
      "execution_count": null,
      "outputs": [
        {
          "output_type": "stream",
          "name": "stdout",
          "text": [
            "Mounted at /content/drive\n"
          ]
        }
      ]
    },
    {
      "cell_type": "code",
      "execution_count": null,
      "metadata": {
        "id": "I_kaxjsnh8CQ"
      },
      "outputs": [],
      "source": [
        "import re\n",
        "import sys\n",
        "import itertools as it\n",
        "from pyspark import SparkConf, SparkContext"
      ]
    },
    {
      "cell_type": "code",
      "execution_count": null,
      "metadata": {
        "id": "MgHThcmzh8CR"
      },
      "outputs": [],
      "source": [
        "import pyspark\n",
        "from pyspark.sql import SQLContext"
      ]
    },
    {
      "cell_type": "code",
      "execution_count": null,
      "metadata": {
        "id": "Ml8YIs5Rh8CR"
      },
      "outputs": [],
      "source": [
        "file_path='/content/drive/MyDrive'\n",
        "fifa_path='/players_fifa23.csv'\n",
        "\n",
        "import pyspark \n",
        "from pyspark.sql import SparkSession \n"
      ]
    },
    {
      "cell_type": "code",
      "execution_count": null,
      "metadata": {
        "id": "U-h8EB1Xh8CS"
      },
      "outputs": [],
      "source": [
        "spark=SparkSession.builder.appName('fifa').getOrCreate()"
      ]
    },
    {
      "cell_type": "code",
      "source": [
        "# # File location and type\n",
        "# file_location = \"/content/drive/MyDrive/players_fifa23.csv\"\n",
        "# file_type = \"csv\"\n",
        "\n",
        "# # CSV options\n",
        "# infer_schema = \"true\"\n",
        "# first_row_is_header = \"true\"\n",
        "# delimiter = \",\"\n",
        "\n",
        "# # The applied options are for CSV files. For other file types, these will be ignored.\n",
        "# df = spark.read.format(file_type) \\\n",
        "#   .option(\"inferSchema\", infer_schema) \\\n",
        "#   .option(\"header\", first_row_is_header) \\\n",
        "#   .option(\"sep\", delimiter) \\\n",
        "#   .load(file_location)\n",
        "\n",
        "# df.show(10)"
      ],
      "metadata": {
        "id": "uqXgrtTL9opj",
        "outputId": "f6f0e1a6-2257-4ba0-d5a5-0a8636a26563",
        "colab": {
          "base_uri": "https://localhost:8080/"
        }
      },
      "execution_count": null,
      "outputs": [
        {
          "output_type": "stream",
          "name": "stdout",
          "text": [
            "+--------+-----------------------+------------------------------------+----+-------+-------+-------------------------------------------------+-------------------------+--------+----------+-------+-----------+----------+--------------+-------------+--------------------------------------+----------+--------+--------------+-------------+--------------+-----------+-----------+-------+--------------------+-----------------+---------------+--------------+--------------+---------+-----------+------------------+------------------+----------+--------------+-------------+---------------+---------------+-----------------+---------+----------+----------------+-------------+--------+----------+------+-----------+------------+------------+-------------+------------+--------+----------+--------+----------+--------+--------+---------+----------+-----------+--------------+------------+-------+----------+----------+--------+---------------+--------------+---------+-----------+----------+--------------+-----------+---------+---------+---------+---------+---------+---------+----------+---------+---------+---------+----------+----------+----------+---------+---------+---------+--------+\n",
            "| ID     |Name                   |FullName                            |Age |Height |Weight |PhotoUrl                                         |Nationality              |Overall |Potential |Growth |TotalStats |BaseStats |Positions     |BestPosition |Club                                  |ValueEUR  |WageEUR |ReleaseClause |ClubPosition |ContractUntil |ClubNumber |ClubJoined |OnLoad |NationalTeam        |NationalPosition |NationalNumber |PreferredFoot |IntReputation |WeakFoot |SkillMoves |AttackingWorkRate |DefensiveWorkRate |PaceTotal |ShootingTotal |PassingTotal |DribblingTotal |DefendingTotal |PhysicalityTotal |Crossing |Finishing |HeadingAccuracy |ShortPassing |Volleys |Dribbling |Curve |FKAccuracy |LongPassing |BallControl |Acceleration |SprintSpeed |Agility |Reactions |Balance |ShotPower |Jumping |Stamina |Strength |LongShots |Aggression |Interceptions |Positioning |Vision |Penalties |Composure |Marking |StandingTackle |SlidingTackle |GKDiving |GKHandling |GKKicking |GKPositioning |GKReflexes |STRating |LWRating |LFRating |CFRating |RFRating |RWRating |CAMRating |LMRating |CMRating |RMRating |LWBRating |CDMRating |RWBRating |LBRating |CBRating |RBRating |GKRating|\n",
            "+--------+-----------------------+------------------------------------+----+-------+-------+-------------------------------------------------+-------------------------+--------+----------+-------+-----------+----------+--------------+-------------+--------------------------------------+----------+--------+--------------+-------------+--------------+-----------+-----------+-------+--------------------+-----------------+---------------+--------------+--------------+---------+-----------+------------------+------------------+----------+--------------+-------------+---------------+---------------+-----------------+---------+----------+----------------+-------------+--------+----------+------+-----------+------------+------------+-------------+------------+--------+----------+--------+----------+--------+--------+---------+----------+-----------+--------------+------------+-------+----------+----------+--------+---------------+--------------+---------+-----------+----------+--------------+-----------+---------+---------+---------+---------+---------+---------+----------+---------+---------+---------+----------+----------+----------+---------+---------+---------+--------+\n",
            "|158023.0|   L. Messi         ...|                Lionel Messi     ...|35.0|  169.0|   67.0|                             https://cdn.sofif...|     Argentina        ...|    91.0|      91.0|    0.0|     2190.0|     452.0|RW            |CAM          |                  Paris Saint-Germa...|     5.4E7|195000.0|        9.99E7|RW           |         2023 |        30 |     2021.0|False  |Argentina           |RW               |            10 |Left          |           5.0|      4.0|        4.0|Low               |Low               |      81.0|          89.0|         90.0|           94.0|           34.0|             64.0|     84.0|      90.0|            70.0|         91.0|    88.0|      95.0|  93.0|       93.0|        90.0|        93.0|         87.0|        76.0|    91.0|      92.0|    95.0|      86.0|    68.0|    70.0|     68.0|      91.0|       44.0|          40.0|        93.0|   94.0|      75.0|      96.0|    20.0|           35.0|          24.0|      6.0|       11.0|      15.0|          14.0|        8.0|     90.0|     90.0|     91.0|     91.0|     91.0|     90.0|      91.0|     91.0|     88.0|     91.0|      67.0|      66.0|      67.0|     62.0|     53.0|     62.0|    22.0|\n",
            "|165153.0|   K. Benzema       ...|                Karim Benzema    ...|34.0|  185.0|   81.0|                             https://cdn.sofif...|     France           ...|    91.0|      91.0|    0.0|     2147.0|     455.0|         CF,ST|CF           |                  Real Madrid CF   ...|     6.4E7|450000.0|  1.31199999E8|CF           |         2023 |         9 |     2009.0|False  |France              |ST               |            19 |Right         |           4.0|      4.0|        4.0|Medium            |Medium            |      80.0|          88.0|         83.0|           87.0|           39.0|             78.0|     75.0|      92.0|            90.0|         89.0|    88.0|      87.0|  82.0|       73.0|        76.0|        91.0|         79.0|        80.0|    78.0|      92.0|    72.0|      87.0|    79.0|    82.0|     82.0|      80.0|       63.0|          39.0|        92.0|   89.0|      84.0|      90.0|    43.0|           24.0|          18.0|     13.0|       11.0|       5.0|           5.0|        7.0|     91.0|     87.0|     89.0|     89.0|     89.0|     87.0|      91.0|     89.0|     84.0|     89.0|      67.0|      67.0|      67.0|     63.0|     58.0|     63.0|    21.0|\n",
            "|188545.0|   R. Lewandowski   ...|                Robert Lewandowsk...|33.0|  185.0|   81.0|                             https://cdn.sofif...|     Poland           ...|    91.0|      91.0|    0.0|     2205.0|     458.0|ST            |ST           |                  FC Barcelona     ...|     8.4E7|420000.0|       1.722E8|ST           |         2025 |         9 |     2022.0|False  |Poland              |ST               |             9 |Right         |           5.0|      4.0|        4.0|High              |Medium            |      75.0|          91.0|         79.0|           86.0|           44.0|             83.0|     71.0|      94.0|            91.0|         84.0|    89.0|      85.0|  79.0|       85.0|        70.0|        89.0|         76.0|        75.0|    77.0|      93.0|    82.0|      91.0|    85.0|    76.0|     87.0|      84.0|       81.0|          49.0|        94.0|   81.0|      90.0|      88.0|    35.0|           42.0|          19.0|     15.0|        6.0|      12.0|           8.0|       10.0|     91.0|     85.0|     88.0|     88.0|     88.0|     85.0|      88.0|     86.0|     83.0|     86.0|      67.0|      69.0|      67.0|     64.0|     63.0|     64.0|    22.0|\n",
            "|192985.0|   K. De Bruyne     ...|                Kevin De Bruyne  ...|31.0|  181.0|   70.0|                             https://cdn.sofif...|     Belgium          ...|    91.0|      91.0|    0.0|     2303.0|     483.0|        CM,CAM|CM           |                  Manchester City  ...|   1.075E8|350000.0|       1.989E8|CM           |         2025 |        17 |     2015.0|False  |Belgium             |RF               |             7 |Right         |           4.0|      5.0|        4.0|High              |High              |      74.0|          88.0|         93.0|           87.0|           64.0|             77.0|     94.0|      85.0|            55.0|         93.0|    83.0|      88.0|  89.0|       83.0|        93.0|        90.0|         76.0|        73.0|    76.0|      91.0|    78.0|      92.0|    63.0|    88.0|     74.0|      91.0|       75.0|          66.0|        88.0|   94.0|      83.0|      89.0|    68.0|           65.0|          53.0|     15.0|       13.0|       5.0|          10.0|       13.0|     86.0|     88.0|     87.0|     87.0|     87.0|     88.0|      91.0|     91.0|     91.0|     91.0|      82.0|      82.0|      82.0|     78.0|     72.0|     78.0|    24.0|\n",
            "|231747.0|   K. Mbappé        ...|                Kylian Mbappé    ...|23.0|  182.0|   73.0|                             https://cdn.sofif...|     France           ...|    91.0|      95.0|    4.0|     2177.0|     470.0|         ST,LW|ST           |                  Paris Saint-Germa...|   1.905E8|230000.0|       3.667E8|ST           |         2024 |         7 |     2018.0|False  |France              |ST               |            10 |Right         |           4.0|      4.0|        5.0|High              |Low               |      97.0|          89.0|         80.0|           92.0|           36.0|             76.0|     78.0|      93.0|            72.0|         85.0|    83.0|      93.0|  80.0|       69.0|        71.0|        91.0|         97.0|        97.0|    93.0|      93.0|    81.0|      88.0|    77.0|    87.0|     76.0|      82.0|       64.0|          38.0|        92.0|   83.0|      80.0|      88.0|    26.0|           34.0|          32.0|     13.0|        5.0|       7.0|          11.0|        6.0|     92.0|     90.0|     90.0|     90.0|     90.0|     90.0|      92.0|     92.0|     84.0|     92.0|      70.0|      66.0|      70.0|     66.0|     57.0|     66.0|    21.0|\n",
            "|209331.0|   M. Salah         ...|                Mohamed Salah    ...|30.0|  175.0|   71.0|                             https://cdn.sofif...|     Egypt            ...|    90.0|      90.0|    0.0|     2226.0|     471.0|RW            |RW           |                  Liverpool        ...|   1.155E8|270000.0|       2.137E8|RW           |         2023 |        11 |     2017.0|False  |Not in team         |                 |               |Left          |           4.0|      3.0|        4.0|High              |Medium            |      90.0|          89.0|         82.0|           90.0|           45.0|             75.0|     80.0|      93.0|            59.0|         84.0|    84.0|      90.0|  84.0|       69.0|        77.0|        88.0|         89.0|        91.0|    90.0|      93.0|    91.0|      83.0|    69.0|    87.0|     75.0|      85.0|       63.0|          55.0|        92.0|   85.0|      86.0|      92.0|    38.0|           43.0|          41.0|     14.0|       14.0|       9.0|          11.0|       14.0|     89.0|     88.0|     88.0|     88.0|     88.0|     88.0|      90.0|     90.0|     85.0|     90.0|      74.0|      71.0|      74.0|     70.0|     61.0|     70.0|    25.0|\n",
            "|192119.0|   T. Courtois      ...|                Thibaut Courtois ...|30.0|  199.0|   96.0|                             https://cdn.sofif...|     Belgium          ...|    90.0|      91.0|    1.0|     1334.0|     473.0|GK            |GK           |                  Real Madrid CF   ...|     9.0E7|250000.0|       1.913E8|GK           |         2026 |         1 |     2018.0|False  |Belgium             |GK               |             1 |Left          |           4.0|      3.0|        1.0|Medium            |Medium            |      84.0|          89.0|         75.0|           90.0|           46.0|             89.0|     14.0|      14.0|            13.0|         33.0|    12.0|      13.0|  19.0|       20.0|        35.0|        23.0|         42.0|        52.0|    63.0|      84.0|    45.0|      56.0|    68.0|    38.0|     70.0|      17.0|       23.0|          15.0|        13.0|   44.0|      27.0|      66.0|    20.0|           18.0|          16.0|     84.0|       89.0|      75.0|          89.0|       90.0|     34.0|     29.0|     31.0|     31.0|     31.0|     29.0|      35.0|     34.0|     35.0|     34.0|      32.0|      34.0|      32.0|     32.0|     32.0|     32.0|    90.0|\n",
            "|167495.0|   M. Neuer         ...|                Manuel Neuer     ...|36.0|  193.0|   93.0|                             https://cdn.sofif...|     Germany          ...|    90.0|      90.0|    0.0|     1535.0|     501.0|GK            |GK           |                  FC Bayern München...|    1.35E7| 72000.0|        2.23E7|GK           |         2024 |         1 |     2011.0|False  |Germany             |GK               |             1 |Right         |           5.0|      4.0|        1.0|Medium            |Medium            |      87.0|          88.0|         91.0|           88.0|           56.0|             91.0|     15.0|      13.0|            25.0|         60.0|    11.0|      30.0|  14.0|       11.0|        68.0|        46.0|         54.0|        60.0|    51.0|      87.0|    35.0|      68.0|    77.0|    43.0|     80.0|      16.0|       29.0|          30.0|        12.0|   70.0|      47.0|      70.0|    17.0|           10.0|          11.0|     87.0|       88.0|      91.0|          91.0|       88.0|     43.0|     40.0|     43.0|     43.0|     43.0|     40.0|      50.0|     47.0|     53.0|     47.0|      39.0|      46.0|      39.0|     38.0|     37.0|     38.0|    90.0|\n",
            "| 20801.0|   Cristiano Ronaldo...|                C. Ronaldo dos Sa...|37.0|  187.0|   83.0|                             https://cdn.sofif...|     Portugal         ...|    90.0|      90.0|    0.0|     2159.0|     445.0|ST            |ST           |                  Manchester United...|     4.1E7|220000.0|        7.79E7|SUB          |         2023 |         7 |     2021.0|False  |Portugal            |ST               |             7 |Right         |           5.0|      4.0|        5.0|High              |Low               |      81.0|          92.0|         78.0|           85.0|           34.0|             75.0|     80.0|      93.0|            90.0|         80.0|    86.0|      85.0|  81.0|       79.0|        75.0|        88.0|         79.0|        83.0|    77.0|      94.0|    67.0|      93.0|    95.0|    76.0|     77.0|      90.0|       63.0|          29.0|        95.0|   76.0|      90.0|      95.0|    24.0|           32.0|          24.0|      7.0|       11.0|      15.0|          14.0|       11.0|     90.0|     86.0|     88.0|     88.0|     88.0|     86.0|      88.0|     87.0|     81.0|     87.0|      65.0|      62.0|      65.0|     61.0|     56.0|     61.0|    23.0|\n",
            "|203376.0|   V. van Dijk      ...|                Virgil van Dijk  ...|30.0|  193.0|   92.0|                             https://cdn.sofif...|     Netherlands      ...|    90.0|      90.0|    0.0|     2117.0|     461.0|CB            |CB           |                  Liverpool        ...|     9.8E7|230000.0|       1.813E8|CB           |         2025 |         4 |     2018.0|False  |Netherlands         |CB               |             4 |Right         |           4.0|      3.0|        2.0|Medium            |High              |      81.0|          60.0|         71.0|           72.0|           91.0|             86.0|     53.0|      52.0|            87.0|         79.0|    45.0|      70.0|  60.0|       70.0|        86.0|        76.0|         68.0|        91.0|    61.0|      89.0|    53.0|      81.0|    88.0|    74.0|     93.0|      64.0|       85.0|          90.0|        47.0|   65.0|      62.0|      90.0|    92.0|           92.0|          86.0|     13.0|       10.0|      13.0|          11.0|       11.0|     74.0|     68.0|     70.0|     70.0|     70.0|     68.0|      73.0|     73.0|     79.0|     73.0|      83.0|      88.0|      83.0|     85.0|     90.0|     85.0|    23.0|\n",
            "+--------+-----------------------+------------------------------------+----+-------+-------+-------------------------------------------------+-------------------------+--------+----------+-------+-----------+----------+--------------+-------------+--------------------------------------+----------+--------+--------------+-------------+--------------+-----------+-----------+-------+--------------------+-----------------+---------------+--------------+--------------+---------+-----------+------------------+------------------+----------+--------------+-------------+---------------+---------------+-----------------+---------+----------+----------------+-------------+--------+----------+------+-----------+------------+------------+-------------+------------+--------+----------+--------+----------+--------+--------+---------+----------+-----------+--------------+------------+-------+----------+----------+--------+---------------+--------------+---------+-----------+----------+--------------+-----------+---------+---------+---------+---------+---------+---------+----------+---------+---------+---------+----------+----------+----------+---------+---------+---------+--------+\n",
            "only showing top 10 rows\n",
            "\n"
          ]
        }
      ]
    },
    {
      "cell_type": "code",
      "execution_count": null,
      "metadata": {
        "colab": {
          "base_uri": "https://localhost:8080/"
        },
        "id": "_R9udTAAh8CT",
        "outputId": "6db81299-be86-46c5-b304-a5cbb1495c92"
      },
      "outputs": [
        {
          "output_type": "stream",
          "name": "stdout",
          "text": [
            "+--------+-----------------------+------------------------------------+----+-------+-------+-------------------------------------------------+-------------------------+--------+----------+-------+-----------+----------+--------------+-------------+--------------------------------------+----------+--------+--------------+-------------+--------------+-----------+-----------+-------+--------------------+-----------------+---------------+--------------+--------------+---------+-----------+------------------+------------------+----------+--------------+-------------+---------------+---------------+-----------------+---------+----------+----------------+-------------+--------+----------+------+-----------+------------+------------+-------------+------------+--------+----------+--------+----------+--------+--------+---------+----------+-----------+--------------+------------+-------+----------+----------+--------+---------------+--------------+---------+-----------+----------+--------------+-----------+---------+---------+---------+---------+---------+---------+----------+---------+---------+---------+----------+----------+----------+---------+---------+---------+--------+\n",
            "| ID     |Name                   |FullName                            |Age |Height |Weight |PhotoUrl                                         |Nationality              |Overall |Potential |Growth |TotalStats |BaseStats |Positions     |BestPosition |Club                                  |ValueEUR  |WageEUR |ReleaseClause |ClubPosition |ContractUntil |ClubNumber |ClubJoined |OnLoad |NationalTeam        |NationalPosition |NationalNumber |PreferredFoot |IntReputation |WeakFoot |SkillMoves |AttackingWorkRate |DefensiveWorkRate |PaceTotal |ShootingTotal |PassingTotal |DribblingTotal |DefendingTotal |PhysicalityTotal |Crossing |Finishing |HeadingAccuracy |ShortPassing |Volleys |Dribbling |Curve |FKAccuracy |LongPassing |BallControl |Acceleration |SprintSpeed |Agility |Reactions |Balance |ShotPower |Jumping |Stamina |Strength |LongShots |Aggression |Interceptions |Positioning |Vision |Penalties |Composure |Marking |StandingTackle |SlidingTackle |GKDiving |GKHandling |GKKicking |GKPositioning |GKReflexes |STRating |LWRating |LFRating |CFRating |RFRating |RWRating |CAMRating |LMRating |CMRating |RMRating |LWBRating |CDMRating |RWBRating |LBRating |CBRating |RBRating |GKRating|\n",
            "+--------+-----------------------+------------------------------------+----+-------+-------+-------------------------------------------------+-------------------------+--------+----------+-------+-----------+----------+--------------+-------------+--------------------------------------+----------+--------+--------------+-------------+--------------+-----------+-----------+-------+--------------------+-----------------+---------------+--------------+--------------+---------+-----------+------------------+------------------+----------+--------------+-------------+---------------+---------------+-----------------+---------+----------+----------------+-------------+--------+----------+------+-----------+------------+------------+-------------+------------+--------+----------+--------+----------+--------+--------+---------+----------+-----------+--------------+------------+-------+----------+----------+--------+---------------+--------------+---------+-----------+----------+--------------+-----------+---------+---------+---------+---------+---------+---------+----------+---------+---------+---------+----------+----------+----------+---------+---------+---------+--------+\n",
            "|158023.0|   L. Messi         ...|                Lionel Messi     ...|35.0|  169.0|   67.0|                             https://cdn.sofif...|     Argentina        ...|    91.0|      91.0|    0.0|     2190.0|     452.0|RW            |CAM          |                  Paris Saint-Germa...|     5.4E7|195000.0|        9.99E7|RW           |         2023 |        30 |     2021.0|False  |Argentina           |RW               |            10 |Left          |           5.0|      4.0|        4.0|Low               |Low               |      81.0|          89.0|         90.0|           94.0|           34.0|             64.0|     84.0|      90.0|            70.0|         91.0|    88.0|      95.0|  93.0|       93.0|        90.0|        93.0|         87.0|        76.0|    91.0|      92.0|    95.0|      86.0|    68.0|    70.0|     68.0|      91.0|       44.0|          40.0|        93.0|   94.0|      75.0|      96.0|    20.0|           35.0|          24.0|      6.0|       11.0|      15.0|          14.0|        8.0|     90.0|     90.0|     91.0|     91.0|     91.0|     90.0|      91.0|     91.0|     88.0|     91.0|      67.0|      66.0|      67.0|     62.0|     53.0|     62.0|    22.0|\n",
            "|165153.0|   K. Benzema       ...|                Karim Benzema    ...|34.0|  185.0|   81.0|                             https://cdn.sofif...|     France           ...|    91.0|      91.0|    0.0|     2147.0|     455.0|         CF,ST|CF           |                  Real Madrid CF   ...|     6.4E7|450000.0|  1.31199999E8|CF           |         2023 |         9 |     2009.0|False  |France              |ST               |            19 |Right         |           4.0|      4.0|        4.0|Medium            |Medium            |      80.0|          88.0|         83.0|           87.0|           39.0|             78.0|     75.0|      92.0|            90.0|         89.0|    88.0|      87.0|  82.0|       73.0|        76.0|        91.0|         79.0|        80.0|    78.0|      92.0|    72.0|      87.0|    79.0|    82.0|     82.0|      80.0|       63.0|          39.0|        92.0|   89.0|      84.0|      90.0|    43.0|           24.0|          18.0|     13.0|       11.0|       5.0|           5.0|        7.0|     91.0|     87.0|     89.0|     89.0|     89.0|     87.0|      91.0|     89.0|     84.0|     89.0|      67.0|      67.0|      67.0|     63.0|     58.0|     63.0|    21.0|\n",
            "|188545.0|   R. Lewandowski   ...|                Robert Lewandowsk...|33.0|  185.0|   81.0|                             https://cdn.sofif...|     Poland           ...|    91.0|      91.0|    0.0|     2205.0|     458.0|ST            |ST           |                  FC Barcelona     ...|     8.4E7|420000.0|       1.722E8|ST           |         2025 |         9 |     2022.0|False  |Poland              |ST               |             9 |Right         |           5.0|      4.0|        4.0|High              |Medium            |      75.0|          91.0|         79.0|           86.0|           44.0|             83.0|     71.0|      94.0|            91.0|         84.0|    89.0|      85.0|  79.0|       85.0|        70.0|        89.0|         76.0|        75.0|    77.0|      93.0|    82.0|      91.0|    85.0|    76.0|     87.0|      84.0|       81.0|          49.0|        94.0|   81.0|      90.0|      88.0|    35.0|           42.0|          19.0|     15.0|        6.0|      12.0|           8.0|       10.0|     91.0|     85.0|     88.0|     88.0|     88.0|     85.0|      88.0|     86.0|     83.0|     86.0|      67.0|      69.0|      67.0|     64.0|     63.0|     64.0|    22.0|\n",
            "|192985.0|   K. De Bruyne     ...|                Kevin De Bruyne  ...|31.0|  181.0|   70.0|                             https://cdn.sofif...|     Belgium          ...|    91.0|      91.0|    0.0|     2303.0|     483.0|        CM,CAM|CM           |                  Manchester City  ...|   1.075E8|350000.0|       1.989E8|CM           |         2025 |        17 |     2015.0|False  |Belgium             |RF               |             7 |Right         |           4.0|      5.0|        4.0|High              |High              |      74.0|          88.0|         93.0|           87.0|           64.0|             77.0|     94.0|      85.0|            55.0|         93.0|    83.0|      88.0|  89.0|       83.0|        93.0|        90.0|         76.0|        73.0|    76.0|      91.0|    78.0|      92.0|    63.0|    88.0|     74.0|      91.0|       75.0|          66.0|        88.0|   94.0|      83.0|      89.0|    68.0|           65.0|          53.0|     15.0|       13.0|       5.0|          10.0|       13.0|     86.0|     88.0|     87.0|     87.0|     87.0|     88.0|      91.0|     91.0|     91.0|     91.0|      82.0|      82.0|      82.0|     78.0|     72.0|     78.0|    24.0|\n",
            "|231747.0|   K. Mbappé        ...|                Kylian Mbappé    ...|23.0|  182.0|   73.0|                             https://cdn.sofif...|     France           ...|    91.0|      95.0|    4.0|     2177.0|     470.0|         ST,LW|ST           |                  Paris Saint-Germa...|   1.905E8|230000.0|       3.667E8|ST           |         2024 |         7 |     2018.0|False  |France              |ST               |            10 |Right         |           4.0|      4.0|        5.0|High              |Low               |      97.0|          89.0|         80.0|           92.0|           36.0|             76.0|     78.0|      93.0|            72.0|         85.0|    83.0|      93.0|  80.0|       69.0|        71.0|        91.0|         97.0|        97.0|    93.0|      93.0|    81.0|      88.0|    77.0|    87.0|     76.0|      82.0|       64.0|          38.0|        92.0|   83.0|      80.0|      88.0|    26.0|           34.0|          32.0|     13.0|        5.0|       7.0|          11.0|        6.0|     92.0|     90.0|     90.0|     90.0|     90.0|     90.0|      92.0|     92.0|     84.0|     92.0|      70.0|      66.0|      70.0|     66.0|     57.0|     66.0|    21.0|\n",
            "|209331.0|   M. Salah         ...|                Mohamed Salah    ...|30.0|  175.0|   71.0|                             https://cdn.sofif...|     Egypt            ...|    90.0|      90.0|    0.0|     2226.0|     471.0|RW            |RW           |                  Liverpool        ...|   1.155E8|270000.0|       2.137E8|RW           |         2023 |        11 |     2017.0|False  |Not in team         |                 |               |Left          |           4.0|      3.0|        4.0|High              |Medium            |      90.0|          89.0|         82.0|           90.0|           45.0|             75.0|     80.0|      93.0|            59.0|         84.0|    84.0|      90.0|  84.0|       69.0|        77.0|        88.0|         89.0|        91.0|    90.0|      93.0|    91.0|      83.0|    69.0|    87.0|     75.0|      85.0|       63.0|          55.0|        92.0|   85.0|      86.0|      92.0|    38.0|           43.0|          41.0|     14.0|       14.0|       9.0|          11.0|       14.0|     89.0|     88.0|     88.0|     88.0|     88.0|     88.0|      90.0|     90.0|     85.0|     90.0|      74.0|      71.0|      74.0|     70.0|     61.0|     70.0|    25.0|\n",
            "|192119.0|   T. Courtois      ...|                Thibaut Courtois ...|30.0|  199.0|   96.0|                             https://cdn.sofif...|     Belgium          ...|    90.0|      91.0|    1.0|     1334.0|     473.0|GK            |GK           |                  Real Madrid CF   ...|     9.0E7|250000.0|       1.913E8|GK           |         2026 |         1 |     2018.0|False  |Belgium             |GK               |             1 |Left          |           4.0|      3.0|        1.0|Medium            |Medium            |      84.0|          89.0|         75.0|           90.0|           46.0|             89.0|     14.0|      14.0|            13.0|         33.0|    12.0|      13.0|  19.0|       20.0|        35.0|        23.0|         42.0|        52.0|    63.0|      84.0|    45.0|      56.0|    68.0|    38.0|     70.0|      17.0|       23.0|          15.0|        13.0|   44.0|      27.0|      66.0|    20.0|           18.0|          16.0|     84.0|       89.0|      75.0|          89.0|       90.0|     34.0|     29.0|     31.0|     31.0|     31.0|     29.0|      35.0|     34.0|     35.0|     34.0|      32.0|      34.0|      32.0|     32.0|     32.0|     32.0|    90.0|\n",
            "|167495.0|   M. Neuer         ...|                Manuel Neuer     ...|36.0|  193.0|   93.0|                             https://cdn.sofif...|     Germany          ...|    90.0|      90.0|    0.0|     1535.0|     501.0|GK            |GK           |                  FC Bayern München...|    1.35E7| 72000.0|        2.23E7|GK           |         2024 |         1 |     2011.0|False  |Germany             |GK               |             1 |Right         |           5.0|      4.0|        1.0|Medium            |Medium            |      87.0|          88.0|         91.0|           88.0|           56.0|             91.0|     15.0|      13.0|            25.0|         60.0|    11.0|      30.0|  14.0|       11.0|        68.0|        46.0|         54.0|        60.0|    51.0|      87.0|    35.0|      68.0|    77.0|    43.0|     80.0|      16.0|       29.0|          30.0|        12.0|   70.0|      47.0|      70.0|    17.0|           10.0|          11.0|     87.0|       88.0|      91.0|          91.0|       88.0|     43.0|     40.0|     43.0|     43.0|     43.0|     40.0|      50.0|     47.0|     53.0|     47.0|      39.0|      46.0|      39.0|     38.0|     37.0|     38.0|    90.0|\n",
            "| 20801.0|   Cristiano Ronaldo...|                C. Ronaldo dos Sa...|37.0|  187.0|   83.0|                             https://cdn.sofif...|     Portugal         ...|    90.0|      90.0|    0.0|     2159.0|     445.0|ST            |ST           |                  Manchester United...|     4.1E7|220000.0|        7.79E7|SUB          |         2023 |         7 |     2021.0|False  |Portugal            |ST               |             7 |Right         |           5.0|      4.0|        5.0|High              |Low               |      81.0|          92.0|         78.0|           85.0|           34.0|             75.0|     80.0|      93.0|            90.0|         80.0|    86.0|      85.0|  81.0|       79.0|        75.0|        88.0|         79.0|        83.0|    77.0|      94.0|    67.0|      93.0|    95.0|    76.0|     77.0|      90.0|       63.0|          29.0|        95.0|   76.0|      90.0|      95.0|    24.0|           32.0|          24.0|      7.0|       11.0|      15.0|          14.0|       11.0|     90.0|     86.0|     88.0|     88.0|     88.0|     86.0|      88.0|     87.0|     81.0|     87.0|      65.0|      62.0|      65.0|     61.0|     56.0|     61.0|    23.0|\n",
            "|203376.0|   V. van Dijk      ...|                Virgil van Dijk  ...|30.0|  193.0|   92.0|                             https://cdn.sofif...|     Netherlands      ...|    90.0|      90.0|    0.0|     2117.0|     461.0|CB            |CB           |                  Liverpool        ...|     9.8E7|230000.0|       1.813E8|CB           |         2025 |         4 |     2018.0|False  |Netherlands         |CB               |             4 |Right         |           4.0|      3.0|        2.0|Medium            |High              |      81.0|          60.0|         71.0|           72.0|           91.0|             86.0|     53.0|      52.0|            87.0|         79.0|    45.0|      70.0|  60.0|       70.0|        86.0|        76.0|         68.0|        91.0|    61.0|      89.0|    53.0|      81.0|    88.0|    74.0|     93.0|      64.0|       85.0|          90.0|        47.0|   65.0|      62.0|      90.0|    92.0|           92.0|          86.0|     13.0|       10.0|      13.0|          11.0|       11.0|     74.0|     68.0|     70.0|     70.0|     70.0|     68.0|      73.0|     73.0|     79.0|     73.0|      83.0|      88.0|      83.0|     85.0|     90.0|     85.0|    23.0|\n",
            "+--------+-----------------------+------------------------------------+----+-------+-------+-------------------------------------------------+-------------------------+--------+----------+-------+-----------+----------+--------------+-------------+--------------------------------------+----------+--------+--------------+-------------+--------------+-----------+-----------+-------+--------------------+-----------------+---------------+--------------+--------------+---------+-----------+------------------+------------------+----------+--------------+-------------+---------------+---------------+-----------------+---------+----------+----------------+-------------+--------+----------+------+-----------+------------+------------+-------------+------------+--------+----------+--------+----------+--------+--------+---------+----------+-----------+--------------+------------+-------+----------+----------+--------+---------------+--------------+---------+-----------+----------+--------------+-----------+---------+---------+---------+---------+---------+---------+----------+---------+---------+---------+----------+----------+----------+---------+---------+---------+--------+\n",
            "only showing top 10 rows\n",
            "\n"
          ]
        }
      ],
      "source": [
        "# # The applied options are for CSV files. For other file types, these will be ignored.\n",
        "df=spark.read.option(\"inferSchema\", \"true\").option(\"header\", \"true\").csv('/content/drive/MyDrive/players_fifa23.csv')\n",
        "df.show(10) "
      ]
    },
    {
      "cell_type": "code",
      "source": [
        "from pyspark.sql.functions import trim\n",
        "#strip header space\n",
        "for each in df.schema.names:\n",
        "    df = df.withColumnRenamed(each,re.sub(r'\\s+([a-zA-Z_][a-zA-Z_0-9]*)\\s*','',each.replace(' ', '')))\n",
        "df.show(10)"
      ],
      "metadata": {
        "colab": {
          "base_uri": "https://localhost:8080/"
        },
        "id": "0Q5hO23BPzmM",
        "outputId": "83cc2593-9168-4970-e13e-bd6ec5f9244b"
      },
      "execution_count": null,
      "outputs": [
        {
          "output_type": "stream",
          "name": "stdout",
          "text": [
            "+--------+--------------------+--------------------+----+------+------+--------------------+--------------------+-------+---------+------+----------+---------+--------------+-------------+--------------------+--------+--------+-------------+-------------+--------------+-----------+----------+-------+--------------------+-----------------+---------------+--------------+-------------+--------+----------+------------------+------------------+---------+-------------+------------+--------------+--------------+----------------+--------+---------+---------------+------------+-------+---------+-----+----------+-----------+-----------+------------+-----------+-------+---------+-------+---------+-------+-------+--------+---------+----------+-------------+-----------+------+---------+---------+-------+--------------+-------------+--------+----------+---------+-------------+----------+--------+--------+--------+--------+--------+--------+---------+--------+--------+--------+---------+---------+---------+--------+--------+--------+--------+\n",
            "|      ID|                Name|            FullName| Age|Height|Weight|            PhotoUrl|         Nationality|Overall|Potential|Growth|TotalStats|BaseStats|     Positions| BestPosition|                Club|ValueEUR| WageEUR|ReleaseClause| ClubPosition| ContractUntil| ClubNumber|ClubJoined| OnLoad|        NationalTeam| NationalPosition| NationalNumber| PreferredFoot|IntReputation|WeakFoot|SkillMoves| AttackingWorkRate| DefensiveWorkRate|PaceTotal|ShootingTotal|PassingTotal|DribblingTotal|DefendingTotal|PhysicalityTotal|Crossing|Finishing|HeadingAccuracy|ShortPassing|Volleys|Dribbling|Curve|FKAccuracy|LongPassing|BallControl|Acceleration|SprintSpeed|Agility|Reactions|Balance|ShotPower|Jumping|Stamina|Strength|LongShots|Aggression|Interceptions|Positioning|Vision|Penalties|Composure|Marking|StandingTackle|SlidingTackle|GKDiving|GKHandling|GKKicking|GKPositioning|GKReflexes|STRating|LWRating|LFRating|CFRating|RFRating|RWRating|CAMRating|LMRating|CMRating|RMRating|LWBRating|CDMRating|RWBRating|LBRating|CBRating|RBRating|GKRating|\n",
            "+--------+--------------------+--------------------+----+------+------+--------------------+--------------------+-------+---------+------+----------+---------+--------------+-------------+--------------------+--------+--------+-------------+-------------+--------------+-----------+----------+-------+--------------------+-----------------+---------------+--------------+-------------+--------+----------+------------------+------------------+---------+-------------+------------+--------------+--------------+----------------+--------+---------+---------------+------------+-------+---------+-----+----------+-----------+-----------+------------+-----------+-------+---------+-------+---------+-------+-------+--------+---------+----------+-------------+-----------+------+---------+---------+-------+--------------+-------------+--------+----------+---------+-------------+----------+--------+--------+--------+--------+--------+--------+---------+--------+--------+--------+---------+---------+---------+--------+--------+--------+--------+\n",
            "|158023.0|L. Messi         ...|Lionel Messi     ...|35.0| 169.0|  67.0|https://cdn.sofif...|Argentina        ...|   91.0|     91.0|   0.0|    2190.0|    452.0|RW            |CAM          |Paris Saint-Germa...|   5.4E7|195000.0|       9.99E7|RW           |         2023 |        30 |    2021.0|False  |Argentina           |RW               |            10 |Left          |          5.0|     4.0|       4.0|Low               |Low               |     81.0|         89.0|        90.0|          94.0|          34.0|            64.0|    84.0|     90.0|           70.0|        91.0|   88.0|     95.0| 93.0|      93.0|       90.0|       93.0|        87.0|       76.0|   91.0|     92.0|   95.0|     86.0|   68.0|   70.0|    68.0|     91.0|      44.0|         40.0|       93.0|  94.0|     75.0|     96.0|   20.0|          35.0|         24.0|     6.0|      11.0|     15.0|         14.0|       8.0|    90.0|    90.0|    91.0|    91.0|    91.0|    90.0|     91.0|    91.0|    88.0|    91.0|     67.0|     66.0|     67.0|    62.0|    53.0|    62.0|    22.0|\n",
            "|165153.0|K. Benzema       ...|Karim Benzema    ...|34.0| 185.0|  81.0|https://cdn.sofif...|France           ...|   91.0|     91.0|   0.0|    2147.0|    455.0|         CF,ST|CF           |Real Madrid CF   ...|   6.4E7|450000.0| 1.31199999E8|CF           |         2023 |         9 |    2009.0|False  |France              |ST               |            19 |Right         |          4.0|     4.0|       4.0|Medium            |Medium            |     80.0|         88.0|        83.0|          87.0|          39.0|            78.0|    75.0|     92.0|           90.0|        89.0|   88.0|     87.0| 82.0|      73.0|       76.0|       91.0|        79.0|       80.0|   78.0|     92.0|   72.0|     87.0|   79.0|   82.0|    82.0|     80.0|      63.0|         39.0|       92.0|  89.0|     84.0|     90.0|   43.0|          24.0|         18.0|    13.0|      11.0|      5.0|          5.0|       7.0|    91.0|    87.0|    89.0|    89.0|    89.0|    87.0|     91.0|    89.0|    84.0|    89.0|     67.0|     67.0|     67.0|    63.0|    58.0|    63.0|    21.0|\n",
            "|188545.0|R. Lewandowski   ...|Robert Lewandowsk...|33.0| 185.0|  81.0|https://cdn.sofif...|Poland           ...|   91.0|     91.0|   0.0|    2205.0|    458.0|ST            |ST           |FC Barcelona     ...|   8.4E7|420000.0|      1.722E8|ST           |         2025 |         9 |    2022.0|False  |Poland              |ST               |             9 |Right         |          5.0|     4.0|       4.0|High              |Medium            |     75.0|         91.0|        79.0|          86.0|          44.0|            83.0|    71.0|     94.0|           91.0|        84.0|   89.0|     85.0| 79.0|      85.0|       70.0|       89.0|        76.0|       75.0|   77.0|     93.0|   82.0|     91.0|   85.0|   76.0|    87.0|     84.0|      81.0|         49.0|       94.0|  81.0|     90.0|     88.0|   35.0|          42.0|         19.0|    15.0|       6.0|     12.0|          8.0|      10.0|    91.0|    85.0|    88.0|    88.0|    88.0|    85.0|     88.0|    86.0|    83.0|    86.0|     67.0|     69.0|     67.0|    64.0|    63.0|    64.0|    22.0|\n",
            "|192985.0|K. De Bruyne     ...|Kevin De Bruyne  ...|31.0| 181.0|  70.0|https://cdn.sofif...|Belgium          ...|   91.0|     91.0|   0.0|    2303.0|    483.0|        CM,CAM|CM           |Manchester City  ...| 1.075E8|350000.0|      1.989E8|CM           |         2025 |        17 |    2015.0|False  |Belgium             |RF               |             7 |Right         |          4.0|     5.0|       4.0|High              |High              |     74.0|         88.0|        93.0|          87.0|          64.0|            77.0|    94.0|     85.0|           55.0|        93.0|   83.0|     88.0| 89.0|      83.0|       93.0|       90.0|        76.0|       73.0|   76.0|     91.0|   78.0|     92.0|   63.0|   88.0|    74.0|     91.0|      75.0|         66.0|       88.0|  94.0|     83.0|     89.0|   68.0|          65.0|         53.0|    15.0|      13.0|      5.0|         10.0|      13.0|    86.0|    88.0|    87.0|    87.0|    87.0|    88.0|     91.0|    91.0|    91.0|    91.0|     82.0|     82.0|     82.0|    78.0|    72.0|    78.0|    24.0|\n",
            "|231747.0|K. Mbappé        ...|Kylian Mbappé    ...|23.0| 182.0|  73.0|https://cdn.sofif...|France           ...|   91.0|     95.0|   4.0|    2177.0|    470.0|         ST,LW|ST           |Paris Saint-Germa...| 1.905E8|230000.0|      3.667E8|ST           |         2024 |         7 |    2018.0|False  |France              |ST               |            10 |Right         |          4.0|     4.0|       5.0|High              |Low               |     97.0|         89.0|        80.0|          92.0|          36.0|            76.0|    78.0|     93.0|           72.0|        85.0|   83.0|     93.0| 80.0|      69.0|       71.0|       91.0|        97.0|       97.0|   93.0|     93.0|   81.0|     88.0|   77.0|   87.0|    76.0|     82.0|      64.0|         38.0|       92.0|  83.0|     80.0|     88.0|   26.0|          34.0|         32.0|    13.0|       5.0|      7.0|         11.0|       6.0|    92.0|    90.0|    90.0|    90.0|    90.0|    90.0|     92.0|    92.0|    84.0|    92.0|     70.0|     66.0|     70.0|    66.0|    57.0|    66.0|    21.0|\n",
            "|209331.0|M. Salah         ...|Mohamed Salah    ...|30.0| 175.0|  71.0|https://cdn.sofif...|Egypt            ...|   90.0|     90.0|   0.0|    2226.0|    471.0|RW            |RW           |Liverpool        ...| 1.155E8|270000.0|      2.137E8|RW           |         2023 |        11 |    2017.0|False  |Not in team         |                 |               |Left          |          4.0|     3.0|       4.0|High              |Medium            |     90.0|         89.0|        82.0|          90.0|          45.0|            75.0|    80.0|     93.0|           59.0|        84.0|   84.0|     90.0| 84.0|      69.0|       77.0|       88.0|        89.0|       91.0|   90.0|     93.0|   91.0|     83.0|   69.0|   87.0|    75.0|     85.0|      63.0|         55.0|       92.0|  85.0|     86.0|     92.0|   38.0|          43.0|         41.0|    14.0|      14.0|      9.0|         11.0|      14.0|    89.0|    88.0|    88.0|    88.0|    88.0|    88.0|     90.0|    90.0|    85.0|    90.0|     74.0|     71.0|     74.0|    70.0|    61.0|    70.0|    25.0|\n",
            "|192119.0|T. Courtois      ...|Thibaut Courtois ...|30.0| 199.0|  96.0|https://cdn.sofif...|Belgium          ...|   90.0|     91.0|   1.0|    1334.0|    473.0|GK            |GK           |Real Madrid CF   ...|   9.0E7|250000.0|      1.913E8|GK           |         2026 |         1 |    2018.0|False  |Belgium             |GK               |             1 |Left          |          4.0|     3.0|       1.0|Medium            |Medium            |     84.0|         89.0|        75.0|          90.0|          46.0|            89.0|    14.0|     14.0|           13.0|        33.0|   12.0|     13.0| 19.0|      20.0|       35.0|       23.0|        42.0|       52.0|   63.0|     84.0|   45.0|     56.0|   68.0|   38.0|    70.0|     17.0|      23.0|         15.0|       13.0|  44.0|     27.0|     66.0|   20.0|          18.0|         16.0|    84.0|      89.0|     75.0|         89.0|      90.0|    34.0|    29.0|    31.0|    31.0|    31.0|    29.0|     35.0|    34.0|    35.0|    34.0|     32.0|     34.0|     32.0|    32.0|    32.0|    32.0|    90.0|\n",
            "|167495.0|M. Neuer         ...|Manuel Neuer     ...|36.0| 193.0|  93.0|https://cdn.sofif...|Germany          ...|   90.0|     90.0|   0.0|    1535.0|    501.0|GK            |GK           |FC Bayern München...|  1.35E7| 72000.0|       2.23E7|GK           |         2024 |         1 |    2011.0|False  |Germany             |GK               |             1 |Right         |          5.0|     4.0|       1.0|Medium            |Medium            |     87.0|         88.0|        91.0|          88.0|          56.0|            91.0|    15.0|     13.0|           25.0|        60.0|   11.0|     30.0| 14.0|      11.0|       68.0|       46.0|        54.0|       60.0|   51.0|     87.0|   35.0|     68.0|   77.0|   43.0|    80.0|     16.0|      29.0|         30.0|       12.0|  70.0|     47.0|     70.0|   17.0|          10.0|         11.0|    87.0|      88.0|     91.0|         91.0|      88.0|    43.0|    40.0|    43.0|    43.0|    43.0|    40.0|     50.0|    47.0|    53.0|    47.0|     39.0|     46.0|     39.0|    38.0|    37.0|    38.0|    90.0|\n",
            "| 20801.0|Cristiano Ronaldo...|C. Ronaldo dos Sa...|37.0| 187.0|  83.0|https://cdn.sofif...|Portugal         ...|   90.0|     90.0|   0.0|    2159.0|    445.0|ST            |ST           |Manchester United...|   4.1E7|220000.0|       7.79E7|SUB          |         2023 |         7 |    2021.0|False  |Portugal            |ST               |             7 |Right         |          5.0|     4.0|       5.0|High              |Low               |     81.0|         92.0|        78.0|          85.0|          34.0|            75.0|    80.0|     93.0|           90.0|        80.0|   86.0|     85.0| 81.0|      79.0|       75.0|       88.0|        79.0|       83.0|   77.0|     94.0|   67.0|     93.0|   95.0|   76.0|    77.0|     90.0|      63.0|         29.0|       95.0|  76.0|     90.0|     95.0|   24.0|          32.0|         24.0|     7.0|      11.0|     15.0|         14.0|      11.0|    90.0|    86.0|    88.0|    88.0|    88.0|    86.0|     88.0|    87.0|    81.0|    87.0|     65.0|     62.0|     65.0|    61.0|    56.0|    61.0|    23.0|\n",
            "|203376.0|V. van Dijk      ...|Virgil van Dijk  ...|30.0| 193.0|  92.0|https://cdn.sofif...|Netherlands      ...|   90.0|     90.0|   0.0|    2117.0|    461.0|CB            |CB           |Liverpool        ...|   9.8E7|230000.0|      1.813E8|CB           |         2025 |         4 |    2018.0|False  |Netherlands         |CB               |             4 |Right         |          4.0|     3.0|       2.0|Medium            |High              |     81.0|         60.0|        71.0|          72.0|          91.0|            86.0|    53.0|     52.0|           87.0|        79.0|   45.0|     70.0| 60.0|      70.0|       86.0|       76.0|        68.0|       91.0|   61.0|     89.0|   53.0|     81.0|   88.0|   74.0|    93.0|     64.0|      85.0|         90.0|       47.0|  65.0|     62.0|     90.0|   92.0|          92.0|         86.0|    13.0|      10.0|     13.0|         11.0|      11.0|    74.0|    68.0|    70.0|    70.0|    70.0|    68.0|     73.0|    73.0|    79.0|    73.0|     83.0|     88.0|     83.0|    85.0|    90.0|    85.0|    23.0|\n",
            "+--------+--------------------+--------------------+----+------+------+--------------------+--------------------+-------+---------+------+----------+---------+--------------+-------------+--------------------+--------+--------+-------------+-------------+--------------+-----------+----------+-------+--------------------+-----------------+---------------+--------------+-------------+--------+----------+------------------+------------------+---------+-------------+------------+--------------+--------------+----------------+--------+---------+---------------+------------+-------+---------+-----+----------+-----------+-----------+------------+-----------+-------+---------+-------+---------+-------+-------+--------+---------+----------+-------------+-----------+------+---------+---------+-------+--------------+-------------+--------+----------+---------+-------------+----------+--------+--------+--------+--------+--------+--------+---------+--------+--------+--------+---------+---------+---------+--------+--------+--------+--------+\n",
            "only showing top 10 rows\n",
            "\n"
          ]
        }
      ]
    },
    {
      "cell_type": "code",
      "source": [
        "from pyspark.sql.functions import trim\n",
        "\n",
        "for c_name in df.columns:\n",
        "    if c_name in ['PhotoUrl','Nationality','Positions','BestPosition','ClubPosition','ContractUntil','ClubNumber','OnLoad','NationalTeam','NationalPosition','NationalNumber','PreferredFoot','AttackingWorkRate','DefensiveWorkRate']:\n",
        "      df = df.withColumn(c_name, trim(col(c_name)))\n",
        "df.show()"
      ],
      "metadata": {
        "colab": {
          "base_uri": "https://localhost:8080/"
        },
        "id": "ThE8UMtOTxni",
        "outputId": "db919cce-4338-45a6-d858-5640ef2171af"
      },
      "execution_count": null,
      "outputs": [
        {
          "output_type": "stream",
          "name": "stdout",
          "text": [
            "+--------+--------------------+--------------------+----+------+------+--------------------+--------------+-------+---------+------+----------+---------+---------+------------+-------------------+--------+--------+-------------+------------+-------------+----------+----------+------+------------+----------------+--------------+-------------+-------------+--------+----------+-----------------+-----------------+---------+-------------+------------+--------------+--------------+----------------+--------+---------+---------------+------------+-------+---------+-----+----------+-----------+-----------+------------+-----------+-------+---------+-------+---------+-------+-------+--------+---------+----------+-------------+-----------+------+---------+---------+-------+--------------+-------------+--------+----------+---------+-------------+----------+--------+--------+--------+--------+--------+--------+---------+--------+--------+--------+---------+---------+---------+--------+--------+--------+--------+\n",
            "|      ID|                Name|            FullName| Age|Height|Weight|            PhotoUrl|   Nationality|Overall|Potential|Growth|TotalStats|BaseStats|Positions|BestPosition|               Club|ValueEUR| WageEUR|ReleaseClause|ClubPosition|ContractUntil|ClubNumber|ClubJoined|OnLoad|NationalTeam|NationalPosition|NationalNumber|PreferredFoot|IntReputation|WeakFoot|SkillMoves|AttackingWorkRate|DefensiveWorkRate|PaceTotal|ShootingTotal|PassingTotal|DribblingTotal|DefendingTotal|PhysicalityTotal|Crossing|Finishing|HeadingAccuracy|ShortPassing|Volleys|Dribbling|Curve|FKAccuracy|LongPassing|BallControl|Acceleration|SprintSpeed|Agility|Reactions|Balance|ShotPower|Jumping|Stamina|Strength|LongShots|Aggression|Interceptions|Positioning|Vision|Penalties|Composure|Marking|StandingTackle|SlidingTackle|GKDiving|GKHandling|GKKicking|GKPositioning|GKReflexes|STRating|LWRating|LFRating|CFRating|RFRating|RWRating|CAMRating|LMRating|CMRating|RMRating|LWBRating|CDMRating|RWBRating|LBRating|CBRating|RBRating|GKRating|\n",
            "+--------+--------------------+--------------------+----+------+------+--------------------+--------------+-------+---------+------+----------+---------+---------+------------+-------------------+--------+--------+-------------+------------+-------------+----------+----------+------+------------+----------------+--------------+-------------+-------------+--------+----------+-----------------+-----------------+---------+-------------+------------+--------------+--------------+----------------+--------+---------+---------------+------------+-------+---------+-----+----------+-----------+-----------+------------+-----------+-------+---------+-------+---------+-------+-------+--------+---------+----------+-------------+-----------+------+---------+---------+-------+--------------+-------------+--------+----------+---------+-------------+----------+--------+--------+--------+--------+--------+--------+---------+--------+--------+--------+---------+---------+---------+--------+--------+--------+--------+\n",
            "|158023.0|L. Messi         ...|Lionel Messi     ...|35.0| 169.0|  67.0|https://cdn.sofif...|     Argentina|   91.0|     91.0|   0.0|    2190.0|    452.0|       RW|         CAM|Paris Saint-Germain|   5.4E7|195000.0|       9.99E7|          RW|         2023|        30|    2021.0| False|   Argentina|              RW|            10|         Left|          5.0|     4.0|       4.0|              Low|              Low|     81.0|         89.0|        90.0|          94.0|          34.0|            64.0|    84.0|     90.0|           70.0|        91.0|   88.0|     95.0| 93.0|      93.0|       90.0|       93.0|        87.0|       76.0|   91.0|     92.0|   95.0|     86.0|   68.0|   70.0|    68.0|     91.0|      44.0|         40.0|       93.0|  94.0|     75.0|     96.0|   20.0|          35.0|         24.0|     6.0|      11.0|     15.0|         14.0|       8.0|    90.0|    90.0|    91.0|    91.0|    91.0|    90.0|     91.0|    91.0|    88.0|    91.0|     67.0|     66.0|     67.0|    62.0|    53.0|    62.0|    22.0|\n",
            "|165153.0|K. Benzema       ...|Karim Benzema    ...|34.0| 185.0|  81.0|https://cdn.sofif...|        France|   91.0|     91.0|   0.0|    2147.0|    455.0|    CF,ST|          CF|     Real Madrid CF|   6.4E7|450000.0| 1.31199999E8|          CF|         2023|         9|    2009.0| False|      France|              ST|            19|        Right|          4.0|     4.0|       4.0|           Medium|           Medium|     80.0|         88.0|        83.0|          87.0|          39.0|            78.0|    75.0|     92.0|           90.0|        89.0|   88.0|     87.0| 82.0|      73.0|       76.0|       91.0|        79.0|       80.0|   78.0|     92.0|   72.0|     87.0|   79.0|   82.0|    82.0|     80.0|      63.0|         39.0|       92.0|  89.0|     84.0|     90.0|   43.0|          24.0|         18.0|    13.0|      11.0|      5.0|          5.0|       7.0|    91.0|    87.0|    89.0|    89.0|    89.0|    87.0|     91.0|    89.0|    84.0|    89.0|     67.0|     67.0|     67.0|    63.0|    58.0|    63.0|    21.0|\n",
            "|188545.0|R. Lewandowski   ...|Robert Lewandowsk...|33.0| 185.0|  81.0|https://cdn.sofif...|        Poland|   91.0|     91.0|   0.0|    2205.0|    458.0|       ST|          ST|       FC Barcelona|   8.4E7|420000.0|      1.722E8|          ST|         2025|         9|    2022.0| False|      Poland|              ST|             9|        Right|          5.0|     4.0|       4.0|             High|           Medium|     75.0|         91.0|        79.0|          86.0|          44.0|            83.0|    71.0|     94.0|           91.0|        84.0|   89.0|     85.0| 79.0|      85.0|       70.0|       89.0|        76.0|       75.0|   77.0|     93.0|   82.0|     91.0|   85.0|   76.0|    87.0|     84.0|      81.0|         49.0|       94.0|  81.0|     90.0|     88.0|   35.0|          42.0|         19.0|    15.0|       6.0|     12.0|          8.0|      10.0|    91.0|    85.0|    88.0|    88.0|    88.0|    85.0|     88.0|    86.0|    83.0|    86.0|     67.0|     69.0|     67.0|    64.0|    63.0|    64.0|    22.0|\n",
            "|192985.0|K. De Bruyne     ...|Kevin De Bruyne  ...|31.0| 181.0|  70.0|https://cdn.sofif...|       Belgium|   91.0|     91.0|   0.0|    2303.0|    483.0|   CM,CAM|          CM|    Manchester City| 1.075E8|350000.0|      1.989E8|          CM|         2025|        17|    2015.0| False|     Belgium|              RF|             7|        Right|          4.0|     5.0|       4.0|             High|             High|     74.0|         88.0|        93.0|          87.0|          64.0|            77.0|    94.0|     85.0|           55.0|        93.0|   83.0|     88.0| 89.0|      83.0|       93.0|       90.0|        76.0|       73.0|   76.0|     91.0|   78.0|     92.0|   63.0|   88.0|    74.0|     91.0|      75.0|         66.0|       88.0|  94.0|     83.0|     89.0|   68.0|          65.0|         53.0|    15.0|      13.0|      5.0|         10.0|      13.0|    86.0|    88.0|    87.0|    87.0|    87.0|    88.0|     91.0|    91.0|    91.0|    91.0|     82.0|     82.0|     82.0|    78.0|    72.0|    78.0|    24.0|\n",
            "|231747.0|K. Mbappé        ...|Kylian Mbappé    ...|23.0| 182.0|  73.0|https://cdn.sofif...|        France|   91.0|     95.0|   4.0|    2177.0|    470.0|    ST,LW|          ST|Paris Saint-Germain| 1.905E8|230000.0|      3.667E8|          ST|         2024|         7|    2018.0| False|      France|              ST|            10|        Right|          4.0|     4.0|       5.0|             High|              Low|     97.0|         89.0|        80.0|          92.0|          36.0|            76.0|    78.0|     93.0|           72.0|        85.0|   83.0|     93.0| 80.0|      69.0|       71.0|       91.0|        97.0|       97.0|   93.0|     93.0|   81.0|     88.0|   77.0|   87.0|    76.0|     82.0|      64.0|         38.0|       92.0|  83.0|     80.0|     88.0|   26.0|          34.0|         32.0|    13.0|       5.0|      7.0|         11.0|       6.0|    92.0|    90.0|    90.0|    90.0|    90.0|    90.0|     92.0|    92.0|    84.0|    92.0|     70.0|     66.0|     70.0|    66.0|    57.0|    66.0|    21.0|\n",
            "|209331.0|M. Salah         ...|Mohamed Salah    ...|30.0| 175.0|  71.0|https://cdn.sofif...|         Egypt|   90.0|     90.0|   0.0|    2226.0|    471.0|       RW|          RW|          Liverpool| 1.155E8|270000.0|      2.137E8|          RW|         2023|        11|    2017.0| False| Not in team|                |              |         Left|          4.0|     3.0|       4.0|             High|           Medium|     90.0|         89.0|        82.0|          90.0|          45.0|            75.0|    80.0|     93.0|           59.0|        84.0|   84.0|     90.0| 84.0|      69.0|       77.0|       88.0|        89.0|       91.0|   90.0|     93.0|   91.0|     83.0|   69.0|   87.0|    75.0|     85.0|      63.0|         55.0|       92.0|  85.0|     86.0|     92.0|   38.0|          43.0|         41.0|    14.0|      14.0|      9.0|         11.0|      14.0|    89.0|    88.0|    88.0|    88.0|    88.0|    88.0|     90.0|    90.0|    85.0|    90.0|     74.0|     71.0|     74.0|    70.0|    61.0|    70.0|    25.0|\n",
            "|192119.0|T. Courtois      ...|Thibaut Courtois ...|30.0| 199.0|  96.0|https://cdn.sofif...|       Belgium|   90.0|     91.0|   1.0|    1334.0|    473.0|       GK|          GK|     Real Madrid CF|   9.0E7|250000.0|      1.913E8|          GK|         2026|         1|    2018.0| False|     Belgium|              GK|             1|         Left|          4.0|     3.0|       1.0|           Medium|           Medium|     84.0|         89.0|        75.0|          90.0|          46.0|            89.0|    14.0|     14.0|           13.0|        33.0|   12.0|     13.0| 19.0|      20.0|       35.0|       23.0|        42.0|       52.0|   63.0|     84.0|   45.0|     56.0|   68.0|   38.0|    70.0|     17.0|      23.0|         15.0|       13.0|  44.0|     27.0|     66.0|   20.0|          18.0|         16.0|    84.0|      89.0|     75.0|         89.0|      90.0|    34.0|    29.0|    31.0|    31.0|    31.0|    29.0|     35.0|    34.0|    35.0|    34.0|     32.0|     34.0|     32.0|    32.0|    32.0|    32.0|    90.0|\n",
            "|167495.0|M. Neuer         ...|Manuel Neuer     ...|36.0| 193.0|  93.0|https://cdn.sofif...|       Germany|   90.0|     90.0|   0.0|    1535.0|    501.0|       GK|          GK|  FC Bayern München|  1.35E7| 72000.0|       2.23E7|          GK|         2024|         1|    2011.0| False|     Germany|              GK|             1|        Right|          5.0|     4.0|       1.0|           Medium|           Medium|     87.0|         88.0|        91.0|          88.0|          56.0|            91.0|    15.0|     13.0|           25.0|        60.0|   11.0|     30.0| 14.0|      11.0|       68.0|       46.0|        54.0|       60.0|   51.0|     87.0|   35.0|     68.0|   77.0|   43.0|    80.0|     16.0|      29.0|         30.0|       12.0|  70.0|     47.0|     70.0|   17.0|          10.0|         11.0|    87.0|      88.0|     91.0|         91.0|      88.0|    43.0|    40.0|    43.0|    43.0|    43.0|    40.0|     50.0|    47.0|    53.0|    47.0|     39.0|     46.0|     39.0|    38.0|    37.0|    38.0|    90.0|\n",
            "| 20801.0|Cristiano Ronaldo...|C. Ronaldo dos Sa...|37.0| 187.0|  83.0|https://cdn.sofif...|      Portugal|   90.0|     90.0|   0.0|    2159.0|    445.0|       ST|          ST|  Manchester United|   4.1E7|220000.0|       7.79E7|         SUB|         2023|         7|    2021.0| False|    Portugal|              ST|             7|        Right|          5.0|     4.0|       5.0|             High|              Low|     81.0|         92.0|        78.0|          85.0|          34.0|            75.0|    80.0|     93.0|           90.0|        80.0|   86.0|     85.0| 81.0|      79.0|       75.0|       88.0|        79.0|       83.0|   77.0|     94.0|   67.0|     93.0|   95.0|   76.0|    77.0|     90.0|      63.0|         29.0|       95.0|  76.0|     90.0|     95.0|   24.0|          32.0|         24.0|     7.0|      11.0|     15.0|         14.0|      11.0|    90.0|    86.0|    88.0|    88.0|    88.0|    86.0|     88.0|    87.0|    81.0|    87.0|     65.0|     62.0|     65.0|    61.0|    56.0|    61.0|    23.0|\n",
            "|203376.0|V. van Dijk      ...|Virgil van Dijk  ...|30.0| 193.0|  92.0|https://cdn.sofif...|   Netherlands|   90.0|     90.0|   0.0|    2117.0|    461.0|       CB|          CB|          Liverpool|   9.8E7|230000.0|      1.813E8|          CB|         2025|         4|    2018.0| False| Netherlands|              CB|             4|        Right|          4.0|     3.0|       2.0|           Medium|             High|     81.0|         60.0|        71.0|          72.0|          91.0|            86.0|    53.0|     52.0|           87.0|        79.0|   45.0|     70.0| 60.0|      70.0|       86.0|       76.0|        68.0|       91.0|   61.0|     89.0|   53.0|     81.0|   88.0|   74.0|    93.0|     64.0|      85.0|         90.0|       47.0|  65.0|     62.0|     90.0|   92.0|          92.0|         86.0|    13.0|      10.0|     13.0|         11.0|      11.0|    74.0|    68.0|    70.0|    70.0|    70.0|    68.0|     73.0|    73.0|    79.0|    73.0|     83.0|     88.0|     83.0|    85.0|    90.0|    85.0|    23.0|\n",
            "|202126.0|H. Kane          ...|Harry Kane       ...|28.0| 188.0|  89.0|https://cdn.sofif...|       England|   89.0|     89.0|   0.0|    2193.0|    453.0|       ST|          ST|  Tottenham Hotspur| 1.055E8|240000.0|      2.005E8|          ST|         2024|        10|    2010.0| False|     England|              ST|             9|        Right|          4.0|     5.0|       3.0|             High|             High|     68.0|         91.0|        83.0|          82.0|          47.0|            82.0|    80.0|     93.0|           85.0|        84.0|   87.0|     83.0| 82.0|      65.0|       85.0|       84.0|        67.0|       69.0|   68.0|     92.0|   71.0|     92.0|   79.0|   83.0|    83.0|     86.0|      80.0|         44.0|       94.0|  87.0|     92.0|     92.0|   50.0|          36.0|         38.0|     8.0|      10.0|     11.0|         14.0|      11.0|    89.0|    84.0|    86.0|    86.0|    86.0|    84.0|     88.0|    86.0|    84.0|    86.0|     69.0|     71.0|     69.0|    66.0|    64.0|    66.0|    23.0|\n",
            "|190871.0|Neymar Jr        ...|Neymar da Silva S...|30.0| 175.0|  68.0|https://cdn.sofif...|        Brazil|   89.0|     89.0|   0.0|    2157.0|    446.0|       LW|          LW|Paris Saint-Germain|  9.95E7|200000.0|      1.841E8|          LW|         2025|        10|    2017.0| False| Not in team|                |              |        Right|          5.0|     5.0|       5.0|             High|           Medium|     87.0|         83.0|        85.0|          93.0|          37.0|            61.0|    84.0|     83.0|           63.0|        85.0|   86.0|     95.0| 88.0|      87.0|       81.0|       94.0|        88.0|       86.0|   93.0|     88.0|   82.0|     79.0|   62.0|   79.0|    52.0|     81.0|      63.0|         37.0|       86.0|  89.0|     91.0|     93.0|   35.0|          32.0|         29.0|     9.0|       9.0|     15.0|         15.0|      11.0|    85.0|    88.0|    88.0|    88.0|    88.0|    88.0|     89.0|    89.0|    85.0|    89.0|     69.0|     66.0|     69.0|    64.0|    53.0|    64.0|    23.0|\n",
            "|200104.0|H. Son           ...|Heung Min Son    ...|29.0| 183.0|  78.0|https://cdn.sofif...|Korea Republic|   89.0|     89.0|   0.0|    2141.0|    456.0|    LW,LM|          LW|  Tottenham Hotspur|  1.01E8|240000.0|      1.919E8|          LW|         2025|         7|    2015.0| False| Not in team|                |              |        Right|          4.0|     5.0|       4.0|             High|           Medium|     88.0|         89.0|        82.0|          86.0|          42.0|            69.0|    83.0|     91.0|           68.0|        84.0|   79.0|     87.0| 85.0|      74.0|       74.0|       84.0|        85.0|       90.0|   85.0|     91.0|   76.0|     88.0|   60.0|   88.0|    64.0|     89.0|      62.0|         39.0|       91.0|  84.0|     73.0|     89.0|   47.0|          34.0|         33.0|    11.0|      13.0|     13.0|          6.0|      10.0|    88.0|    87.0|    87.0|    87.0|    87.0|    87.0|     89.0|    89.0|    83.0|    89.0|     71.0|     67.0|     71.0|    67.0|    57.0|    67.0|    22.0|\n",
            "|200145.0|Casemiro         ...|Carlos Henrique V...|30.0| 185.0|  84.0|https://cdn.sofif...|        Brazil|   89.0|     89.0|   0.0|    2209.0|    460.0|      CDM|         CDM|  Manchester United|   8.6E7|240000.0|      1.634E8|         SUB|         2026|        18|    2022.0| False| Not in team|                |              |        Right|          3.0|     3.0|       2.0|           Medium|             High|     63.0|         73.0|        75.0|          72.0|          87.0|            90.0|    58.0|     64.0|           79.0|        84.0|   62.0|     67.0| 62.0|      74.0|       83.0|       78.0|        60.0|       66.0|   61.0|     87.0|   66.0|     88.0|   85.0|   90.0|    90.0|     81.0|      91.0|         88.0|       75.0|  75.0|     66.0|     84.0|   87.0|          88.0|         87.0|    13.0|      14.0|     16.0|         12.0|      12.0|    78.0|    71.0|    75.0|    75.0|    75.0|    71.0|     78.0|    76.0|    84.0|    76.0|     83.0|     89.0|     83.0|    84.0|    89.0|    84.0|    24.0|\n",
            "|200389.0|J. Oblak         ...|Jan Oblak        ...|29.0| 188.0|  87.0|https://cdn.sofif...|      Slovenia|   89.0|     91.0|   2.0|    1402.0|    479.0|       GK|          GK| Atlético de Madrid|  8.55E7|100000.0|      1.817E8|          GK|         2023|        13|    2014.0| False| Not in team|                |              |        Right|          5.0|     3.0|       1.0|           Medium|           Medium|     86.0|         90.0|        78.0|          89.0|          49.0|            87.0|    13.0|     11.0|           15.0|        43.0|   13.0|     12.0| 13.0|      14.0|       40.0|       30.0|        43.0|       58.0|   65.0|     87.0|   49.0|     59.0|   77.0|   41.0|    78.0|     12.0|      34.0|         21.0|       11.0|  65.0|     11.0|     68.0|   27.0|          12.0|         18.0|    86.0|      90.0|     78.0|         87.0|      89.0|    36.0|    32.0|    34.0|    34.0|    34.0|    32.0|     41.0|    37.0|    41.0|    37.0|     35.0|     40.0|     35.0|    35.0|    36.0|    35.0|    90.0|\n",
            "|208722.0|S. Mané          ...|Sadio Mané       ...|30.0| 174.0|  69.0|https://cdn.sofif...|       Senegal|   89.0|     89.0|   0.0|    2188.0|    462.0|    LM,CF|          LM|  FC Bayern München|  9.95E7|145000.0|      1.642E8|          ST|         2025|        17|    2022.0| False| Not in team|                |              |        Right|          4.0|     4.0|       4.0|             High|           Medium|     90.0|         83.0|        80.0|          88.0|          44.0|            77.0|    78.0|     86.0|           84.0|        84.0|   75.0|     88.0| 77.0|      64.0|       71.0|       86.0|        91.0|       90.0|   93.0|     91.0|   88.0|     83.0|   87.0|   85.0|    72.0|     78.0|      75.0|         35.0|       90.0|  84.0|     75.0|     84.0|   42.0|          42.0|         38.0|    10.0|      10.0|     15.0|          7.0|      14.0|    89.0|    86.0|    87.0|    87.0|    87.0|    86.0|     89.0|    89.0|    82.0|    89.0|     71.0|     68.0|     71.0|    68.0|    62.0|    68.0|    22.0|\n",
            "|210257.0|Ederson          ...|Ederson Santana d...|28.0| 188.0|  86.0|https://cdn.sofif...|        Brazil|   89.0|     91.0|   2.0|    1583.0|    502.0|       GK|          GK|    Manchester City|   8.8E7|210000.0|      1.694E8|          GK|         2026|        31|    2017.0| False| Not in team|                |              |         Left|          3.0|     3.0|       1.0|           Medium|           Medium|     87.0|         82.0|        93.0|          88.0|          64.0|            88.0|    20.0|     14.0|           14.0|        61.0|   18.0|     23.0| 15.0|      20.0|       66.0|       40.0|        64.0|       63.0|   60.0|     88.0|   48.0|     70.0|   66.0|   41.0|    78.0|     18.0|      38.0|         27.0|       20.0|  70.0|     51.0|     70.0|   29.0|          15.0|          8.0|    87.0|      82.0|     93.0|         88.0|      88.0|    43.0|    41.0|    43.0|    43.0|    43.0|    41.0|     50.0|    47.0|    52.0|    47.0|     40.0|     47.0|     40.0|    39.0|    38.0|    39.0|    90.0|\n",
            "|212622.0|J. Kimmich       ...|Joshua Kimmich   ...|27.0| 177.0|  75.0|https://cdn.sofif...|       Germany|   89.0|     90.0|   1.0|    2283.0|    473.0|   CDM,RB|         CDM|  FC Bayern München| 1.055E8|130000.0|       1.82E8|         CDM|         2025|         6|    2015.0| False|     Germany|             CDM|             6|        Right|          4.0|     4.0|       3.0|             High|           Medium|     68.0|         72.0|        87.0|          84.0|          83.0|            79.0|    91.0|     68.0|           72.0|        87.0|   69.0|     82.0| 85.0|      69.0|       90.0|       85.0|        77.0|       60.0|   84.0|     88.0|   84.0|     78.0|   79.0|   94.0|    68.0|     83.0|      89.0|         84.0|       80.0|  85.0|     44.0|     85.0|   85.0|          85.0|         78.0|     8.0|      15.0|      7.0|         15.0|      15.0|    80.0|    81.0|    80.0|    80.0|    80.0|    81.0|     85.0|    86.0|    89.0|    86.0|     87.0|     89.0|     87.0|    86.0|    84.0|    86.0|    24.0|\n",
            "|212831.0|Alisson          ...|Alisson Ramses Be...|29.0| 191.0|  91.0|https://cdn.sofif...|        Brazil|   89.0|     90.0|   1.0|    1437.0|    489.0|       GK|          GK|          Liverpool|   7.9E7|190000.0|      1.521E8|          GK|         2027|         1|    2018.0| False| Not in team|                |              |        Right|          3.0|     3.0|       1.0|           Medium|           Medium|     86.0|         85.0|        85.0|          89.0|          54.0|            90.0|    17.0|     13.0|           29.0|        60.0|   20.0|     27.0| 19.0|      18.0|       58.0|       40.0|        58.0|       49.0|   40.0|     87.0|   37.0|     64.0|   52.0|   32.0|    78.0|     14.0|      27.0|         11.0|       13.0|  66.0|     23.0|     68.0|   15.0|          19.0|         16.0|    86.0|      85.0|     85.0|         90.0|      89.0|    42.0|    38.0|    41.0|    41.0|    41.0|    38.0|     48.0|    45.0|    49.0|    45.0|     36.0|     42.0|     36.0|    35.0|    35.0|    35.0|    90.0|\n",
            "|215914.0|N. Kanté         ...|N'Golo Kanté     ...|31.0| 168.0|  70.0|https://cdn.sofif...|        France|   89.0|     89.0|   0.0|    2154.0|    462.0|   CDM,CM|         CDM|            Chelsea|   7.2E7|220000.0| 1.33199999E8|          CM|         2023|         7|    2016.0| False|      France|             CDM|            13|        Right|          4.0|     3.0|       2.0|           Medium|             High|     72.0|         66.0|        74.0|          81.0|          87.0|            82.0|    68.0|     65.0|           54.0|        82.0|   56.0|     78.0| 49.0|      49.0|       76.0|       81.0|        77.0|       68.0|   78.0|     93.0|   92.0|     71.0|   75.0|   95.0|    72.0|     65.0|      93.0|         91.0|       72.0|  77.0|     54.0|     84.0|   90.0|          93.0|         86.0|    15.0|      12.0|     10.0|          7.0|      10.0|    75.0|    76.0|    76.0|    76.0|    76.0|    76.0|     80.0|    81.0|    84.0|    81.0|     87.0|     89.0|     87.0|    87.0|    87.0|    87.0|    23.0|\n",
            "+--------+--------------------+--------------------+----+------+------+--------------------+--------------+-------+---------+------+----------+---------+---------+------------+-------------------+--------+--------+-------------+------------+-------------+----------+----------+------+------------+----------------+--------------+-------------+-------------+--------+----------+-----------------+-----------------+---------+-------------+------------+--------------+--------------+----------------+--------+---------+---------------+------------+-------+---------+-----+----------+-----------+-----------+------------+-----------+-------+---------+-------+---------+-------+-------+--------+---------+----------+-------------+-----------+------+---------+---------+-------+--------------+-------------+--------+----------+---------+-------------+----------+--------+--------+--------+--------+--------+--------+---------+--------+--------+--------+---------+---------+---------+--------+--------+--------+--------+\n",
            "only showing top 20 rows\n",
            "\n"
          ]
        }
      ]
    },
    {
      "cell_type": "markdown",
      "source": [
        "### missing value analysis\n"
      ],
      "metadata": {
        "id": "y3cFW5h-FYvR"
      }
    },
    {
      "cell_type": "code",
      "execution_count": null,
      "metadata": {
        "colab": {
          "base_uri": "https://localhost:8080/"
        },
        "id": "Nc5zGpdwh8CV",
        "outputId": "3969817f-2759-4223-b2cc-037063eb4852"
      },
      "outputs": [
        {
          "output_type": "stream",
          "name": "stdout",
          "text": [
            "+---+----+--------+---+------+------+--------+-----------+-------+---------+------+----------+---------+---------+------------+----+--------+-------+-------------+------------+-------------+----------+----------+------+------------+----------------+--------------+-------------+-------------+--------+----------+-----------------+-----------------+---------+-------------+------------+--------------+--------------+----------------+--------+---------+---------------+------------+-------+---------+-----+----------+-----------+-----------+------------+-----------+-------+---------+-------+---------+-------+-------+--------+---------+----------+-------------+-----------+------+---------+---------+-------+--------------+-------------+--------+----------+---------+-------------+----------+--------+--------+--------+--------+--------+--------+---------+--------+--------+--------+---------+---------+---------+--------+--------+--------+--------+\n",
            "| ID|Name|FullName|Age|Height|Weight|PhotoUrl|Nationality|Overall|Potential|Growth|TotalStats|BaseStats|Positions|BestPosition|Club|ValueEUR|WageEUR|ReleaseClause|ClubPosition|ContractUntil|ClubNumber|ClubJoined|OnLoad|NationalTeam|NationalPosition|NationalNumber|PreferredFoot|IntReputation|WeakFoot|SkillMoves|AttackingWorkRate|DefensiveWorkRate|PaceTotal|ShootingTotal|PassingTotal|DribblingTotal|DefendingTotal|PhysicalityTotal|Crossing|Finishing|HeadingAccuracy|ShortPassing|Volleys|Dribbling|Curve|FKAccuracy|LongPassing|BallControl|Acceleration|SprintSpeed|Agility|Reactions|Balance|ShotPower|Jumping|Stamina|Strength|LongShots|Aggression|Interceptions|Positioning|Vision|Penalties|Composure|Marking|StandingTackle|SlidingTackle|GKDiving|GKHandling|GKKicking|GKPositioning|GKReflexes|STRating|LWRating|LFRating|CFRating|RFRating|RWRating|CAMRating|LMRating|CMRating|RMRating|LWBRating|CDMRating|RWBRating|LBRating|CBRating|RBRating|GKRating|\n",
            "+---+----+--------+---+------+------+--------+-----------+-------+---------+------+----------+---------+---------+------------+----+--------+-------+-------------+------------+-------------+----------+----------+------+------------+----------------+--------------+-------------+-------------+--------+----------+-----------------+-----------------+---------+-------------+------------+--------------+--------------+----------------+--------+---------+---------------+------------+-------+---------+-----+----------+-----------+-----------+------------+-----------+-------+---------+-------+---------+-------+-------+--------+---------+----------+-------------+-----------+------+---------+---------+-------+--------------+-------------+--------+----------+---------+-------------+----------+--------+--------+--------+--------+--------+--------+---------+--------+--------+--------+---------+---------+---------+--------+--------+--------+--------+\n",
            "|  0|   0|       0|  0|     0|     0|       0|          0|      0|        0|     0|         0|        0|        0|           0|   0|       0|      0|            0|          92|           92|        92|         0|     0|           0|           17722|         17722|            0|            0|       0|         0|                0|                0|        0|            0|           0|             0|             0|               0|       0|        0|              0|           0|      0|        0|    0|         0|          0|          0|           0|          0|      0|        0|      0|        0|      0|      0|       0|        0|         0|            0|          0|     0|        0|        0|      0|             0|            0|       0|         0|        0|            0|         0|       0|       0|       0|       0|       0|       0|        0|       0|       0|       0|        0|        0|        0|       0|       0|       0|       0|\n",
            "+---+----+--------+---+------+------+--------+-----------+-------+---------+------+----------+---------+---------+------------+----+--------+-------+-------------+------------+-------------+----------+----------+------+------------+----------------+--------------+-------------+-------------+--------+----------+-----------------+-----------------+---------+-------------+------------+--------------+--------------+----------------+--------+---------+---------------+------------+-------+---------+-----+----------+-----------+-----------+------------+-----------+-------+---------+-------+---------+-------+-------+--------+---------+----------+-------------+-----------+------+---------+---------+-------+--------------+-------------+--------+----------+---------+-------------+----------+--------+--------+--------+--------+--------+--------+---------+--------+--------+--------+---------+---------+---------+--------+--------+--------+--------+\n",
            "\n"
          ]
        }
      ],
      "source": [
        "# Find count for empty, None, Null, Nan with string literals.\n",
        "from pyspark.sql.functions import col,isnan,when,count\n",
        "missing_df = df.select([count(when(col(c).contains('None') | \\\n",
        "                            col(c).contains('NULL') | \\\n",
        "                            (col(c) == '' ) | \\\n",
        "                            col(c).isNull() | \\\n",
        "                            isnan(c), c \n",
        "                           )).alias(c)\n",
        "                    for c in df.columns])\n",
        "missing_df.show()\n",
        "\n",
        "# ClubPosition|ContractUntil|ClubNumber 92개의 missing value\n",
        "# NationalPosition|NationalNumber -> 국대 아닌 선수들 17722\n",
        "# 그 외의 결측치 없음"
      ]
    },
    {
      "cell_type": "code",
      "source": [
        "df.printSchema()"
      ],
      "metadata": {
        "colab": {
          "base_uri": "https://localhost:8080/"
        },
        "id": "2iR8QRYvWiO0",
        "outputId": "4f366e85-483e-49eb-96a7-ef54297cef64"
      },
      "execution_count": null,
      "outputs": [
        {
          "output_type": "stream",
          "name": "stdout",
          "text": [
            "root\n",
            " |-- ID: double (nullable = true)\n",
            " |-- Name: string (nullable = true)\n",
            " |-- FullName: string (nullable = true)\n",
            " |-- Age: double (nullable = true)\n",
            " |-- Height: double (nullable = true)\n",
            " |-- Weight: double (nullable = true)\n",
            " |-- PhotoUrl: string (nullable = true)\n",
            " |-- Nationality: string (nullable = true)\n",
            " |-- Overall: double (nullable = true)\n",
            " |-- Potential: double (nullable = true)\n",
            " |-- Growth: double (nullable = true)\n",
            " |-- TotalStats: double (nullable = true)\n",
            " |-- BaseStats: double (nullable = true)\n",
            " |-- Positions: string (nullable = true)\n",
            " |-- BestPosition: string (nullable = true)\n",
            " |-- Club: string (nullable = true)\n",
            " |-- ValueEUR: double (nullable = true)\n",
            " |-- WageEUR: double (nullable = true)\n",
            " |-- ReleaseClause: double (nullable = true)\n",
            " |-- ClubPosition: string (nullable = true)\n",
            " |-- ContractUntil: string (nullable = true)\n",
            " |-- ClubNumber: string (nullable = true)\n",
            " |-- ClubJoined: double (nullable = true)\n",
            " |-- OnLoad: string (nullable = true)\n",
            " |-- NationalTeam: string (nullable = true)\n",
            " |-- NationalPosition: string (nullable = true)\n",
            " |-- NationalNumber: string (nullable = true)\n",
            " |-- PreferredFoot: string (nullable = true)\n",
            " |-- IntReputation: double (nullable = true)\n",
            " |-- WeakFoot: double (nullable = true)\n",
            " |-- SkillMoves: double (nullable = true)\n",
            " |-- AttackingWorkRate: string (nullable = true)\n",
            " |-- DefensiveWorkRate: string (nullable = true)\n",
            " |-- PaceTotal: double (nullable = true)\n",
            " |-- ShootingTotal: double (nullable = true)\n",
            " |-- PassingTotal: double (nullable = true)\n",
            " |-- DribblingTotal: double (nullable = true)\n",
            " |-- DefendingTotal: double (nullable = true)\n",
            " |-- PhysicalityTotal: double (nullable = true)\n",
            " |-- Crossing: double (nullable = true)\n",
            " |-- Finishing: double (nullable = true)\n",
            " |-- HeadingAccuracy: double (nullable = true)\n",
            " |-- ShortPassing: double (nullable = true)\n",
            " |-- Volleys: double (nullable = true)\n",
            " |-- Dribbling: double (nullable = true)\n",
            " |-- Curve: double (nullable = true)\n",
            " |-- FKAccuracy: double (nullable = true)\n",
            " |-- LongPassing: double (nullable = true)\n",
            " |-- BallControl: double (nullable = true)\n",
            " |-- Acceleration: double (nullable = true)\n",
            " |-- SprintSpeed: double (nullable = true)\n",
            " |-- Agility: double (nullable = true)\n",
            " |-- Reactions: double (nullable = true)\n",
            " |-- Balance: double (nullable = true)\n",
            " |-- ShotPower: double (nullable = true)\n",
            " |-- Jumping: double (nullable = true)\n",
            " |-- Stamina: double (nullable = true)\n",
            " |-- Strength: double (nullable = true)\n",
            " |-- LongShots: double (nullable = true)\n",
            " |-- Aggression: double (nullable = true)\n",
            " |-- Interceptions: double (nullable = true)\n",
            " |-- Positioning: double (nullable = true)\n",
            " |-- Vision: double (nullable = true)\n",
            " |-- Penalties: double (nullable = true)\n",
            " |-- Composure: double (nullable = true)\n",
            " |-- Marking: double (nullable = true)\n",
            " |-- StandingTackle: double (nullable = true)\n",
            " |-- SlidingTackle: double (nullable = true)\n",
            " |-- GKDiving: double (nullable = true)\n",
            " |-- GKHandling: double (nullable = true)\n",
            " |-- GKKicking: double (nullable = true)\n",
            " |-- GKPositioning: double (nullable = true)\n",
            " |-- GKReflexes: double (nullable = true)\n",
            " |-- STRating: double (nullable = true)\n",
            " |-- LWRating: double (nullable = true)\n",
            " |-- LFRating: double (nullable = true)\n",
            " |-- CFRating: double (nullable = true)\n",
            " |-- RFRating: double (nullable = true)\n",
            " |-- RWRating: double (nullable = true)\n",
            " |-- CAMRating: double (nullable = true)\n",
            " |-- LMRating: double (nullable = true)\n",
            " |-- CMRating: double (nullable = true)\n",
            " |-- RMRating: double (nullable = true)\n",
            " |-- LWBRating: double (nullable = true)\n",
            " |-- CDMRating: double (nullable = true)\n",
            " |-- RWBRating: double (nullable = true)\n",
            " |-- LBRating: double (nullable = true)\n",
            " |-- CBRating: double (nullable = true)\n",
            " |-- RBRating: double (nullable = true)\n",
            " |-- GKRating: double (nullable = true)\n",
            "\n"
          ]
        }
      ]
    },
    {
      "cell_type": "code",
      "source": [
        "from pyspark.sql.types import IntegerType\n",
        "df=df.withColumn(\"ID\",df[\"ID\"].cast(IntegerType()))\n",
        "df=df.withColumn(\"Age\",df[\"Age\"].cast(IntegerType()))\n",
        "df=df.withColumn(\"Overall\",df[\"Overall\"].cast(IntegerType()))\n",
        "df=df.withColumn(\"Potential\",df[\"Potential\"].cast(IntegerType()))\n",
        "df=df.withColumn(\"IntReputation\",df[\"IntReputation\"].cast(IntegerType()))\n",
        "df=df.withColumn(\"SkillMoves\",df[\"SkillMoves\"].cast(IntegerType()))\n",
        "df=df.withColumn(\"WeakFoot\",df[\"WeakFoot\"].cast(IntegerType()))\n",
        "df=df.withColumn(\"Height\",df[\"Height\"].cast(IntegerType()))\n",
        "df=df.withColumn(\"Weight\",df[\"Weight\"].cast(IntegerType()))\n"
      ],
      "metadata": {
        "id": "-5LfrTY6Vw8p"
      },
      "execution_count": null,
      "outputs": []
    },
    {
      "cell_type": "code",
      "source": [
        "df.printSchema()"
      ],
      "metadata": {
        "id": "sIxA0XkeFysc",
        "outputId": "c203c709-e531-4b68-af02-8424a271f9b2",
        "colab": {
          "base_uri": "https://localhost:8080/"
        }
      },
      "execution_count": 18,
      "outputs": [
        {
          "output_type": "stream",
          "name": "stdout",
          "text": [
            "root\n",
            " |-- ID: integer (nullable = true)\n",
            " |-- Name: string (nullable = true)\n",
            " |-- FullName: string (nullable = true)\n",
            " |-- Age: integer (nullable = true)\n",
            " |-- Height: integer (nullable = true)\n",
            " |-- Weight: integer (nullable = true)\n",
            " |-- PhotoUrl: string (nullable = true)\n",
            " |-- Nationality: string (nullable = true)\n",
            " |-- Overall: integer (nullable = true)\n",
            " |-- Potential: integer (nullable = true)\n",
            " |-- Growth: double (nullable = true)\n",
            " |-- TotalStats: double (nullable = true)\n",
            " |-- BaseStats: double (nullable = true)\n",
            " |-- Positions: string (nullable = true)\n",
            " |-- BestPosition: string (nullable = true)\n",
            " |-- Club: string (nullable = true)\n",
            " |-- ValueEUR: double (nullable = true)\n",
            " |-- WageEUR: double (nullable = true)\n",
            " |-- ReleaseClause: double (nullable = true)\n",
            " |-- ClubPosition: string (nullable = true)\n",
            " |-- ContractUntil: string (nullable = true)\n",
            " |-- ClubNumber: string (nullable = true)\n",
            " |-- ClubJoined: double (nullable = true)\n",
            " |-- OnLoad: string (nullable = true)\n",
            " |-- NationalTeam: string (nullable = true)\n",
            " |-- NationalPosition: string (nullable = true)\n",
            " |-- NationalNumber: string (nullable = true)\n",
            " |-- PreferredFoot: string (nullable = true)\n",
            " |-- IntReputation: integer (nullable = true)\n",
            " |-- WeakFoot: integer (nullable = true)\n",
            " |-- SkillMoves: integer (nullable = true)\n",
            " |-- AttackingWorkRate: string (nullable = true)\n",
            " |-- DefensiveWorkRate: string (nullable = true)\n",
            " |-- PaceTotal: double (nullable = true)\n",
            " |-- ShootingTotal: double (nullable = true)\n",
            " |-- PassingTotal: double (nullable = true)\n",
            " |-- DribblingTotal: double (nullable = true)\n",
            " |-- DefendingTotal: double (nullable = true)\n",
            " |-- PhysicalityTotal: double (nullable = true)\n",
            " |-- Crossing: double (nullable = true)\n",
            " |-- Finishing: double (nullable = true)\n",
            " |-- HeadingAccuracy: double (nullable = true)\n",
            " |-- ShortPassing: double (nullable = true)\n",
            " |-- Volleys: double (nullable = true)\n",
            " |-- Dribbling: double (nullable = true)\n",
            " |-- Curve: double (nullable = true)\n",
            " |-- FKAccuracy: double (nullable = true)\n",
            " |-- LongPassing: double (nullable = true)\n",
            " |-- BallControl: double (nullable = true)\n",
            " |-- Acceleration: double (nullable = true)\n",
            " |-- SprintSpeed: double (nullable = true)\n",
            " |-- Agility: double (nullable = true)\n",
            " |-- Reactions: double (nullable = true)\n",
            " |-- Balance: double (nullable = true)\n",
            " |-- ShotPower: double (nullable = true)\n",
            " |-- Jumping: double (nullable = true)\n",
            " |-- Stamina: double (nullable = true)\n",
            " |-- Strength: double (nullable = true)\n",
            " |-- LongShots: double (nullable = true)\n",
            " |-- Aggression: double (nullable = true)\n",
            " |-- Interceptions: double (nullable = true)\n",
            " |-- Positioning: double (nullable = true)\n",
            " |-- Vision: double (nullable = true)\n",
            " |-- Penalties: double (nullable = true)\n",
            " |-- Composure: double (nullable = true)\n",
            " |-- Marking: double (nullable = true)\n",
            " |-- StandingTackle: double (nullable = true)\n",
            " |-- SlidingTackle: double (nullable = true)\n",
            " |-- GKDiving: double (nullable = true)\n",
            " |-- GKHandling: double (nullable = true)\n",
            " |-- GKKicking: double (nullable = true)\n",
            " |-- GKPositioning: double (nullable = true)\n",
            " |-- GKReflexes: double (nullable = true)\n",
            " |-- STRating: double (nullable = true)\n",
            " |-- LWRating: double (nullable = true)\n",
            " |-- LFRating: double (nullable = true)\n",
            " |-- CFRating: double (nullable = true)\n",
            " |-- RFRating: double (nullable = true)\n",
            " |-- RWRating: double (nullable = true)\n",
            " |-- CAMRating: double (nullable = true)\n",
            " |-- LMRating: double (nullable = true)\n",
            " |-- CMRating: double (nullable = true)\n",
            " |-- RMRating: double (nullable = true)\n",
            " |-- LWBRating: double (nullable = true)\n",
            " |-- CDMRating: double (nullable = true)\n",
            " |-- RWBRating: double (nullable = true)\n",
            " |-- LBRating: double (nullable = true)\n",
            " |-- CBRating: double (nullable = true)\n",
            " |-- RBRating: double (nullable = true)\n",
            " |-- GKRating: double (nullable = true)\n",
            "\n"
          ]
        }
      ]
    },
    {
      "cell_type": "markdown",
      "source": [],
      "metadata": {
        "id": "N4HxT5f7Fdzn"
      }
    }
  ],
  "metadata": {
    "kernelspec": {
      "display_name": "Python 3.9.13 ('pythonProject1')",
      "language": "python",
      "name": "python3"
    },
    "language_info": {
      "codemirror_mode": {
        "name": "ipython",
        "version": 3
      },
      "file_extension": ".py",
      "mimetype": "text/x-python",
      "name": "python",
      "nbconvert_exporter": "python",
      "pygments_lexer": "ipython3",
      "version": "3.9.13"
    },
    "orig_nbformat": 4,
    "vscode": {
      "interpreter": {
        "hash": "120d79180860a7ea78759e95b741a7dd64d4aa5a77eee49753765991feab0774"
      }
    },
    "colab": {
      "provenance": [],
      "include_colab_link": true
    }
  },
  "nbformat": 4,
  "nbformat_minor": 0
}